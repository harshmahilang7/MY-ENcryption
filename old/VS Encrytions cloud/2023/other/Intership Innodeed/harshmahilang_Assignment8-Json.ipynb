{
 "cells": [
  {
   "cell_type": "markdown",
   "id": "1fb3bbca",
   "metadata": {},
   "source": [
    "# <center>Python with json<center/> "
   ]
  },
  {
   "cell_type": "code",
   "execution_count": 54,
   "id": "a75fe0d1",
   "metadata": {},
   "outputs": [
    {
     "name": "stdout",
     "output_type": "stream",
     "text": [
      "the value of salary= 7000\n"
     ]
    }
   ],
   "source": [
    "\"\"\"\n",
    "Write a python program to print the value of salary.This data is inside the json file.\n",
    "\n",
    "demojson = { \n",
    "   \"company\":{ \n",
    "      \"employee\":{ \n",
    "         \"name\":\"emma\",\n",
    "         \"payble\":{ \n",
    "             \"amount\":{\n",
    "                 \"salary\":7000\n",
    "             },\n",
    "            \"bonus\":800\n",
    "         }\n",
    "      }\n",
    "   }\n",
    "}\"\"\"\n",
    "\n",
    "import json\n",
    "with open(\"C:\\\\Users\\\\harsh\\\\OneDrive\\\\Desktop\\\\json\\\\demojson.json\", 'r') as openfile:\n",
    "    json_object = json.load(openfile)\n",
    "print(\"the value of salary=\",json_object['company']['employee']['payble']['amount']['salary'])\n"
   ]
  },
  {
   "cell_type": "code",
   "execution_count": 43,
   "id": "98de2bc9",
   "metadata": {},
   "outputs": [
    {
     "name": "stdout",
     "output_type": "stream",
     "text": [
      "{'person_name': 'John Doe', 'person_age': 30, 'person_address_street': 'maheshmati 123 Main St', 'person_address_city': 'durg', 'person_address_state': 'NY', 'Office_name': 'ABC Corp', 'Office_location': 'kirwai'}\n"
     ]
    }
   ],
   "source": [
    "\"\"\"Write a Python program to flatten a nested JSON object.\n",
    "\n",
    "the json file contain following value:\n",
    " {\n",
    "    \"person\": {\n",
    "        \"name\": \"John Doe\",\n",
    "        \"age\": 30,\n",
    "        \"address\": {\n",
    "            \"street\": \"maheshmati 123 Main St\",\n",
    "            \"city\": \"durg\",\n",
    "            \"state\": \"NY\"\n",
    "        }\n",
    "    },\n",
    "    \"Office\": {\n",
    "        \"name\": \"ABC Corp\",\n",
    "        \"location\": \"kirwai\"\n",
    "    }\n",
    "}\n",
    "Note: While designing the program, consider factors such as memory management, performance optimization, code \n",
    "modularity, maintainability, and scalability to handle even larger and more complex JSON objects efficiently.\n",
    "\"\"\"\n",
    "\n",
    "\n",
    "from flatten_json import flatten\n",
    " \n",
    "unflat_json =  {\n",
    "    \"person\": {\n",
    "        \"name\": \"John Doe\",\n",
    "        \"age\": 30,\n",
    "        \"address\": {\n",
    "            \"street\": \"maheshmati 123 Main St\",\n",
    "            \"city\": \"durg\",\n",
    "            \"state\": \"NY\"\n",
    "        }\n",
    "    },\n",
    "    \"Office\": {\n",
    "        \"name\": \"ABC Corp\",\n",
    "        \"location\": \"kirwai\"\n",
    "    }\n",
    "}\n",
    "flat_json = flatten(unflat_json)\n",
    "print(flat_json)"
   ]
  },
  {
   "cell_type": "code",
   "execution_count": 55,
   "id": "7037cdba",
   "metadata": {},
   "outputs": [
    {
     "name": "stdout",
     "output_type": "stream",
     "text": [
      "<class 'dict'>\n",
      "count the occurrences of values= 4\n",
      "the values are= dict_values(['harsh', 'dastan', 'pakiza', 'sweetu'])\n"
     ]
    }
   ],
   "source": [
    "\"\"\"Write a Python program to count the occurrences of values in a JSON file.\n",
    "it should returns  the value_counts dictionary containing the occurrences of each value in the JSON file.\n",
    "Use any suitable json file.\"\"\"\n",
    "\n",
    "import json\n",
    "my_val=[]\n",
    "with open(\"C:\\\\Users\\\\harsh\\\\OneDrive\\\\Desktop\\\\json\\\\j2.json\", 'r') as openfile:\n",
    "    json_object = json.load(openfile)\n",
    "    my_val=json_object.values()\n",
    "    print(\"count the occurrences of values=\",len(my_val))\n",
    "    print(\"the values are=\",my_val)"
   ]
  },
  {
   "cell_type": "code",
   "execution_count": 103,
   "id": "056a5ef8",
   "metadata": {},
   "outputs": [
    {
     "name": "stdout",
     "output_type": "stream",
     "text": [
      "{'first': 'secound', 'harsh': 'dastan'}\n"
     ]
    }
   ],
   "source": [
    "\"\"\"Write a Python program to convert a CSV file to JSON format.\"\"\"\n",
    "\n",
    "import csv\n",
    "import json\n",
    "\n",
    "my_list=[]\n",
    "with open(\"C:\\\\Users\\\\harsh\\\\OneDrive\\\\Desktop\\\\json\\\\csv1.csv\", 'r') as file:\n",
    "    csvf=csv.reader(file)\n",
    "    for i in csvf:\n",
    "        my_list.append(i)\n",
    "\n",
    "mydic=dict(my_list)\n",
    "\n",
    "json_object = json.dumps(mydic, indent=2)\n",
    "\n",
    "with open(\"C:\\\\Users\\\\harsh\\\\OneDrive\\\\Desktop\\\\json\\\\j3.json\", 'w') as file:\n",
    "    file.write(json_object)\n",
    "\n",
    "with open(\"C:\\\\Users\\\\harsh\\\\OneDrive\\\\Desktop\\\\json\\\\j3.json\", 'r') as openfile:\n",
    "    json_object = json.load(openfile)\n",
    "    print(json_object)\n",
    "\n"
   ]
  },
  {
   "cell_type": "code",
   "execution_count": 81,
   "id": "ed0f67bc",
   "metadata": {},
   "outputs": [
    {
     "name": "stdout",
     "output_type": "stream",
     "text": [
      "converted a JSON file to CSV format it is save in json folder\n"
     ]
    }
   ],
   "source": [
    "\"\"\"Write a Python program to convert a JSON file to CSV format.\"\"\"\n",
    "\n",
    "import json\n",
    "import csv\n",
    "my_key=[]\n",
    "my_val=[]\n",
    "with open(\"C:\\\\Users\\\\harsh\\\\OneDrive\\\\Desktop\\\\json\\\\j2.json\", 'r') as openfile:\n",
    "    json_object = json.load(openfile)\n",
    "    my_key=json_object.keys()\n",
    "    my_val=json_object.values()\n",
    "\n",
    "with open(\"C:\\\\Users\\\\harsh\\\\OneDrive\\\\Desktop\\\\json\\\\c1.csv\", 'w') as file:\n",
    "    csvf=csv.writer(file)\n",
    "    csvf.writerow(my_key)\n",
    "    csvf.writerows(my_val)\n",
    "    print(\"converted a JSON file to CSV format it is save in json folder\")"
   ]
  },
  {
   "cell_type": "code",
   "execution_count": 107,
   "id": "060b6a5d",
   "metadata": {},
   "outputs": [
    {
     "name": "stdout",
     "output_type": "stream",
     "text": [
      "Price: 19.99\n"
     ]
    }
   ],
   "source": [
    "\"\"\"example.json contain this data\n",
    "\n",
    "{\n",
    "  \"users\": [\n",
    "    {\n",
    "      \"id\": 1,\n",
    "      \"name\": \"John Doe\",\n",
    "      \"age\": 30,\n",
    "      \"email\": \"john.doe@example.com\",\n",
    "      \"address\": {\n",
    "        \"street\": \"123 Main St\",\n",
    "        \"city\": \"New York\",\n",
    "        \"state\": \"NY\",\n",
    "        \"zip\": \"10001\"\n",
    "      },\n",
    "      \"orders\": [\n",
    "        {\n",
    "          \"id\": 101,\n",
    "          \"date\": \"2022-01-15\",\n",
    "          \"total\": 49.99,\n",
    "          \"items\": [\n",
    "            {\n",
    "              \"id\": 1,\n",
    "              \"name\": \"Product 1\",\n",
    "              \"price\": 19.99\n",
    "            },\n",
    "            {\n",
    "              \"id\": 2,\n",
    "              \"name\": \"Product 2\",\n",
    "              \"price\": 29.99\n",
    "            }\n",
    "          ]\n",
    "        },\n",
    "        {\n",
    "          \"id\": 102,\n",
    "          \"date\": \"2022-02-20\",\n",
    "          \"total\": 99.99,\n",
    "          \"items\": [\n",
    "            {\n",
    "              \"id\": 3,\n",
    "              \"name\": \"Product 3\",\n",
    "              \"price\": 49.99\n",
    "            },\n",
    "            {\n",
    "              \"id\": 4,\n",
    "              \"name\": \"Product 4\",\n",
    "              \"price\": 50.00\n",
    "            }\n",
    "          ]\n",
    "        }\n",
    "      ]\n",
    "    },\n",
    "    {\n",
    "      \"id\": 2,\n",
    "      \"name\": \"Jane Smith\",\n",
    "      \"age\": 25,\n",
    "      \"email\": \"jane.smith@example.com\",\n",
    "      \"address\": {\n",
    "        \"street\": \"456 Elm St\",\n",
    "        \"city\": \"San Francisco\",\n",
    "        \"state\": \"CA\",\n",
    "        \"zip\": \"94101\"\n",
    "      },\n",
    "      \"orders\": [\n",
    "        {\n",
    "          \"id\": 103,\n",
    "          \"date\": \"2022-03-10\",\n",
    "          \"total\": 149.99,\n",
    "          \"items\": [\n",
    "            {\n",
    "              \"id\": 5,\n",
    "              \"name\": \"Product 5\",\n",
    "              \"price\": 99.99\n",
    "            },\n",
    "            {\n",
    "              \"id\": 6,\n",
    "              \"name\": \"Product 6\",\n",
    "              \"price\": 50.00\n",
    "            }\n",
    "          ]\n",
    "        }\n",
    "      ]\n",
    "    }\n",
    "  ]\n",
    "}\n",
    "Write a program which read the above json file fromthe example.json file and return the value of price with the \n",
    "items id is 1 and orders id is 101.\n",
    "\"\"\"\n",
    "\n",
    "import json\n",
    "with open('C:\\\\Users\\\\harsh\\\\OneDrive\\\\Desktop\\\\json\\\\j5.json') as file:\n",
    "    data = json.load(file)\n",
    "for user in data['users']:\n",
    "    for order in user['orders']:\n",
    "        if order['id'] == 101:\n",
    "            for item in order['items']:\n",
    "                if item['id'] == 1:\n",
    "                    price = item['price']\n",
    "                    print(\"Price:\", price)\n",
    "\n"
   ]
  },
  {
   "cell_type": "code",
   "execution_count": 116,
   "id": "d9c72ec9",
   "metadata": {},
   "outputs": [
    {
     "name": "stdout",
     "output_type": "stream",
     "text": [
      "appending new elements\n",
      "{'users': [{'id': 1, 'name': 'John Doe', 'age': 30, 'email': 'john.doe@example.com', 'address': {'street': '123 Main St', 'city': 'New York', 'state': 'NY', 'zip': '10001'}, 'orders': [{'id': 101, 'date': '2022-01-15', 'total': 49.99, 'items': [{'id': 1, 'name': 'Product 1', 'price': 19.99}, {'id': 2, 'name': 'Product 2', 'price': 29.99}]}, {'id': 102, 'date': '2022-02-20', 'total': 99.99, 'items': [{'id': 3, 'name': 'Product 3', 'price': 49.99}, {'id': 4, 'name': 'Product 4', 'price': 50.0}]}]}, {'id': 2, 'name': 'Jane Smith', 'age': 25, 'email': 'jane.smith@example.com', 'address': {'street': '456 Elm St', 'city': 'San Francisco', 'state': 'CA', 'zip': '94101'}, 'orders': [{'id': 103, 'date': '2022-03-10', 'total': 149.99, 'items': [{'id': 5, 'name': 'Product 5', 'price': 99.99}, {'id': 6, 'name': 'Product 6', 'price': 50.0}]}]}], 'newkey': 'newval', 'newkey1': 'newval1'}\n",
      "\n",
      "removing existing elemnts\n",
      "{'users': [{'id': 1, 'name': 'John Doe', 'age': 30, 'email': 'john.doe@example.com', 'address': {'street': '123 Main St', 'city': 'New York', 'state': 'NY', 'zip': '10001'}, 'orders': [{'id': 101, 'date': '2022-01-15', 'total': 49.99, 'items': [{'id': 1, 'name': 'Product 1', 'price': 19.99}, {'id': 2, 'name': 'Product 2', 'price': 29.99}]}, {'id': 102, 'date': '2022-02-20', 'total': 99.99, 'items': [{'id': 3, 'name': 'Product 3', 'price': 49.99}, {'id': 4, 'name': 'Product 4', 'price': 50.0}]}]}, {'id': 2, 'name': 'Jane Smith', 'age': 25, 'email': 'jane.smith@example.com', 'address': {'street': '456 Elm St', 'city': 'San Francisco', 'state': 'CA', 'zip': '94101'}, 'orders': [{'id': 103, 'date': '2022-03-10', 'total': 149.99, 'items': [{'id': 5, 'name': 'Product 5', 'price': 99.99}, {'id': 6, 'name': 'Product 6', 'price': 50.0}]}]}], 'newkey': 'newval'}\n",
      "\n",
      "modifying existing ones\n",
      "{'users': [{'id': 1, 'name': 'John Doe', 'age': 30, 'email': 'john.doe@example.com', 'address': {'street': '123 Main St', 'city': 'New York', 'state': 'NY', 'zip': '10001'}, 'orders': [{'id': 101, 'date': '2022-01-15', 'total': 49.99, 'items': [{'id': 1, 'name': 'Product 1', 'price': 19.99}, {'id': 2, 'name': 'Product 2', 'price': 29.99}]}, {'id': 102, 'date': '2022-02-20', 'total': 99.99, 'items': [{'id': 3, 'name': 'Product 3', 'price': 49.99}, {'id': 4, 'name': 'Product 4', 'price': 50.0}]}]}, {'id': 2, 'name': 'Jane Smith', 'age': 25, 'email': 'jane.smith@example.com', 'address': {'street': '456 Elm St', 'city': 'San Francisco', 'state': 'CA', 'zip': '94101'}, 'orders': [{'id': 103, 'date': '2022-03-10', 'total': 149.99, 'items': [{'id': 5, 'name': 'Product 5', 'price': 99.99}, {'id': 6, 'name': 'Product 6', 'price': 50.0}]}]}], 'newkey': 'update_val'}\n"
     ]
    }
   ],
   "source": [
    "\"\"\"Write a Python program to convert a JSON object into a nested Python data structure and perform various \n",
    "operations on it, such as appending new elements, removing existing elemnts or modifying existing ones.\"\"\"\n",
    "\n",
    "import json\n",
    "my_dic={}\n",
    "with open('C:\\\\Users\\\\harsh\\\\OneDrive\\\\Desktop\\\\json\\\\j5.json') as file:\n",
    "    data = json.load(file)\n",
    "    my_dic=data\n",
    "    \n",
    "print(\"appending new elements\")\n",
    "my_dic.update({\"newkey\":\"newval\"})\n",
    "my_dic.update({\"newkey1\":\"newval1\"})\n",
    "print(my_dic)\n",
    "print()\n",
    "print(\"removing existing elemnts\")\n",
    "my_dic.popitem()\n",
    "print(my_dic)\n",
    "print()\n",
    "print(\"modifying existing ones\")\n",
    "my_dic[\"newkey\"]=\"update_val\"\n",
    "print(my_dic)"
   ]
  },
  {
   "cell_type": "code",
   "execution_count": 119,
   "id": "8e3b82da",
   "metadata": {},
   "outputs": [
    {
     "name": "stdout",
     "output_type": "stream",
     "text": [
      "Most common element: harsh\n",
      "Frequency: 1\n"
     ]
    }
   ],
   "source": [
    "\"\"\"Write a Python program to efficiently find the most common element in a large JSON\n",
    "file and determine its frequency?. Additionally, it should handle scenarios where multiple elements have the same \n",
    "highest frequency then it use first come strategy.\"\"\"\n",
    "import json\n",
    "\n",
    "\n",
    "with open(\"C:\\\\Users\\\\harsh\\\\OneDrive\\\\Desktop\\\\json\\\\dup_j.json\") as file:\n",
    "    data = json.load(file)\n",
    "\n",
    "frequency = {}\n",
    "for element in data:\n",
    "    if element in frequency:\n",
    "        frequency[element] += 1\n",
    "    else:\n",
    "        frequency[element] = 1\n",
    "\n",
    "most_common = None\n",
    "max_frequency = 0\n",
    "\n",
    "for element, count in frequency.items():\n",
    "    if count > max_frequency:\n",
    "        most_common = element\n",
    "        max_frequency = count\n",
    "for element in data:\n",
    "    if frequency[element] == max_frequency:\n",
    "        most_common = element\n",
    "        break\n",
    "\n",
    "print(\"Most common element:\", most_common)\n",
    "print(\"Frequency:\", max_frequency)\n"
   ]
  },
  {
   "cell_type": "code",
   "execution_count": 125,
   "id": "cbe7dbdd",
   "metadata": {},
   "outputs": [
    {
     "name": "stdout",
     "output_type": "stream",
     "text": [
      "Merged JSON files successfully into 'merged_data.json'.\n"
     ]
    }
   ],
   "source": [
    "\"\"\"Create a Python program to merge multiple JSON files into a single file, preserving the structure and\n",
    "eliminating duplicate entries.\"\"\"\n",
    "import json\n",
    "import glob\n",
    "\n",
    "json_files = glob.glob('C:\\\\Users\\\\harsh\\\\OneDrive\\\\Desktop\\\\json\\\\*.json')\n",
    "merged_data = {}\n",
    "for file in json_files:\n",
    "    with open(file) as json_file:\n",
    "        data = json.load(json_file)\n",
    "        for key, value in data.items():\n",
    "            if key in merged_data:\n",
    "                if isinstance(value, list):\n",
    "                    merged_data[key].extend([item for item in value if item not in merged_data[key]])\n",
    "                elif isinstance(value, dict):\n",
    "                    merged_data[key].update({k: v for k, v in value.items() if k not in merged_data[key]})\n",
    "            else:\n",
    "                merged_data[key] = value\n",
    "\n",
    "with open('C:\\\\Users\\\\harsh\\\\OneDrive\\\\Desktop\\\\json\\\\merged_data.json', 'w') as outfile:\n",
    "    json.dump(merged_data, outfile, indent=2)\n",
    "\n",
    "print(\"Merged JSON files successfully into 'merged_data.json'.\")\n"
   ]
  },
  {
   "cell_type": "code",
   "execution_count": 145,
   "id": "b5fd2f76",
   "metadata": {},
   "outputs": [
    {
     "name": "stdout",
     "output_type": "stream",
     "text": [
      "converted a JSON file to CSV format it is save in json folder\n",
      "JSON converted to text file successfully.\n",
      "Word Count Dictionary: {'csv_word_count': 5, 'txt_word_count': 9}\n"
     ]
    }
   ],
   "source": [
    "\"\"\"Write a python program to convert the json file to csv file and text file.Also write the logic to return the \n",
    "total number of word count in the csv file and txt file ,return the result as the form of dictionary.\"\"\"\n",
    "\n",
    "import json\n",
    "import csv\n",
    "my_key=[]\n",
    "my_val=[]\n",
    "with open(\"C:\\\\Users\\\\harsh\\\\OneDrive\\\\Desktop\\\\json\\\\j2.json\", 'r') as openfile:\n",
    "    json_object = json.load(openfile)\n",
    "    my_key=json_object.keys()\n",
    "    my_val=json_object.values()\n",
    "\n",
    "with open(\"C:\\\\Users\\\\harsh\\\\OneDrive\\\\Desktop\\\\json\\\\c1.csv\", 'w') as file:\n",
    "    csvf=csv.writer(file)\n",
    "    csvf.writerow(my_key)\n",
    "    csvf.writerows(my_val)\n",
    "    print(\"converted a JSON file to CSV format it is save in json folder\")\n",
    "    \n",
    "def convert_json_to_text(json_data, text_file):\n",
    "    if len(json_data) == 0:\n",
    "        print(\"JSON data is empty.\")\n",
    "        return   \n",
    "    with open(text_file, 'w') as file:\n",
    "        for item in json_data:\n",
    "            file.write(json.dumps(item) + '\\n')\n",
    "\n",
    "def get_word_count(file_path):\n",
    "    with open(file_path, 'r') as file:\n",
    "        content = file.read()\n",
    "    words = content.split()\n",
    "    word_count = len(words)\n",
    "    return word_count\n",
    "\n",
    "with open(\"C:\\\\Users\\\\harsh\\\\OneDrive\\\\Desktop\\\\json\\\\merged_data.json\") as file:\n",
    "    json_data = json.load(file)\n",
    "\n",
    "convert_json_to_text(json_data, 'C:\\\\Users\\\\harsh\\\\OneDrive\\\\Desktop\\\\json\\\\data.txt')\n",
    "print('JSON converted to text file successfully.')\n",
    "\n",
    "csv_word_count = get_word_count('C:\\\\Users\\\\harsh\\\\OneDrive\\\\Desktop\\\\json\\\\c1.csv')\n",
    "txt_word_count = get_word_count('C:\\\\Users\\\\harsh\\\\OneDrive\\\\Desktop\\\\json\\\\data.txt')\n",
    "\n",
    "word_count_dict = {\n",
    "    'csv_word_count': csv_word_count,\n",
    "    'txt_word_count': txt_word_count\n",
    "}\n",
    "print('Word Count Dictionary:', word_count_dict)\n"
   ]
  },
  {
   "cell_type": "code",
   "execution_count": 133,
   "id": "617a67fa",
   "metadata": {},
   "outputs": [
    {
     "name": "stdout",
     "output_type": "stream",
     "text": [
      "Semicolon Count: 0\n",
      "Comma Count: 52\n",
      "Curly Bracket Count: 36\n"
     ]
    }
   ],
   "source": [
    "\"\"\"write a python program to calculate the total number of  semi colon, comda  and curly bracket for a given any \n",
    "json file. \n",
    "\"\"\"\n",
    "import json\n",
    "\n",
    "def count_characters(json_file):\n",
    "    with open(json_file) as file:\n",
    "        json_data = json.load(file)\n",
    "    json_string = json.dumps(json_data)\n",
    "    semicolon_count = json_string.count(';')\n",
    "    comma_count = json_string.count(',')\n",
    "    curly_bracket_count = json_string.count('{') + json_string.count('}')\n",
    "    return semicolon_count, comma_count, curly_bracket_count\n",
    "\n",
    "json_file_path = 'C:\\\\Users\\\\harsh\\\\OneDrive\\\\Desktop\\\\json\\\\merged_data.json'\n",
    "\n",
    "semicolon_count, comma_count, curly_bracket_count = count_characters(json_file_path)\n",
    "\n",
    "print(\"Semicolon Count:\", semicolon_count)\n",
    "print(\"Comma Count:\", comma_count)\n",
    "print(\"Curly Bracket Count:\", curly_bracket_count)\n"
   ]
  },
  {
   "cell_type": "code",
   "execution_count": 134,
   "id": "3797f99c",
   "metadata": {},
   "outputs": [
    {
     "name": "stdout",
     "output_type": "stream",
     "text": [
      "Merged JSON files successfully into 'C:\\Users\\harsh\\OneDrive\\Desktop\\json\\merged_data.json'.\n"
     ]
    }
   ],
   "source": [
    "\"\"\"Create a Python program to merge multiple JSON files into a single file, preserving the structure and \n",
    "eliminating duplicate entries if there are.\"\"\"\n",
    "\n",
    "import json\n",
    "import glob\n",
    "\n",
    "json_files = glob.glob('C:\\\\Users\\\\harsh\\\\OneDrive\\\\Desktop\\\\json\\\\*.json')\n",
    "merged_data = {}\n",
    "for file in json_files:\n",
    "    with open(file) as json_file:\n",
    "        data = json.load(json_file)\n",
    "        for key, value in data.items():\n",
    "            if key in merged_data:\n",
    "                if isinstance(value, list):\n",
    "                    merged_data[key].extend([item for item in value if item not in merged_data[key]])\n",
    "                elif isinstance(value, dict):\n",
    "                    merged_data[key].update({k: v for k, v in value.items() if k not in merged_data[key]})\n",
    "            else:\n",
    "                merged_data[key] = value\n",
    "\n",
    "with open('C:\\\\Users\\\\harsh\\\\OneDrive\\\\Desktop\\\\json\\\\merged_data.json', 'w') as outfile:\n",
    "    json.dump(merged_data, outfile, indent=2)\n",
    "\n",
    "print(\"Merged JSON files successfully into 'merged_data.json'.\")\n",
    "\n"
   ]
  },
  {
   "cell_type": "code",
   "execution_count": 139,
   "id": "5af16edd",
   "metadata": {},
   "outputs": [
    {
     "name": "stdout",
     "output_type": "stream",
     "text": [
      "JSON converted to CSV successfully.\n",
      "JSON converted to XML successfully.\n",
      "JSON converted to YAML successfully.\n"
     ]
    }
   ],
   "source": [
    "\"\"\"Create a Python program to convert a JSON file to other formats such as CSV, XML, and YAML.\"\"\"\n",
    "\n",
    "import json\n",
    "import csv\n",
    "import xml.etree.ElementTree as ET\n",
    "import yaml\n",
    "\n",
    "def convert_json_to_csv(json_data, csv_file):\n",
    "    with open(csv_file, 'w', newline='') as file:\n",
    "        writer = csv.writer(file)\n",
    "        writer.writerow(json_data.keys())\n",
    "        for item in json_data:\n",
    "            writer.writerow(json_data.values())\n",
    "\n",
    "def convert_json_to_xml(json_data, xml_file):\n",
    "    root = ET.Element('root')\n",
    "    \n",
    "    for item in json_data:\n",
    "        sub_element = ET.SubElement(root, 'item')\n",
    "        for key, value in json_data.items():\n",
    "            sub_sub_element = ET.SubElement(sub_element, key)\n",
    "            sub_sub_element.text = str(value)\n",
    "    tree = ET.ElementTree(root)\n",
    "    tree.write(xml_file)\n",
    "\n",
    "def convert_json_to_yaml(json_data, yaml_file):\n",
    "    with open(yaml_file, 'w') as file:\n",
    "        yaml.dump(json_data, file)\n",
    "\n",
    "with open('C:\\\\Users\\\\harsh\\\\OneDrive\\\\Desktop\\\\json\\\\merged_data.json') as file:\n",
    "    json_data = json.load(file)\n",
    "\n",
    "convert_json_to_csv(json_data, 'data.csv')\n",
    "print('JSON converted to CSV successfully.')\n",
    "\n",
    "convert_json_to_xml(json_data, 'data.xml')\n",
    "print('JSON converted to XML successfully.')\n",
    "\n",
    "convert_json_to_yaml(json_data, 'data.yaml')\n",
    "print('JSON converted to YAML successfully.')\n"
   ]
  }
 ],
 "metadata": {
  "kernelspec": {
   "display_name": "Python 3 (ipykernel)",
   "language": "python",
   "name": "python3"
  },
  "language_info": {
   "codemirror_mode": {
    "name": "ipython",
    "version": 3
   },
   "file_extension": ".py",
   "mimetype": "text/x-python",
   "name": "python",
   "nbconvert_exporter": "python",
   "pygments_lexer": "ipython3",
   "version": "3.11.4"
  }
 },
 "nbformat": 4,
 "nbformat_minor": 5
}
