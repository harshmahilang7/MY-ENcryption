{
 "cells": [
  {
   "cell_type": "markdown",
   "id": "5e8d8f29",
   "metadata": {},
   "source": [
    "# <center>Python with csv<center/> "
   ]
  },
  {
   "cell_type": "code",
   "execution_count": 10,
   "id": "c664d0c1",
   "metadata": {},
   "outputs": [
    {
     "name": "stdout",
     "output_type": "stream",
     "text": [
      "['name', 'age']\n",
      "['harsh', '20']\n",
      "['dastan', '20']\n",
      "['pakiza', '19']\n"
     ]
    }
   ],
   "source": [
    "\"\"\"Develop a Python program that reads a given CSV file and displays its content. The program should open the \n",
    "file, read its content line by line, split each line into fields using commas as the delimiter, and print each row\n",
    "to display its content.\"\"\"\n",
    "\n",
    "import csv\n",
    "with open (\"C:\\\\Users\\\\harsh\\\\OneDrive\\\\Desktop\\\\exm_file21.csv\", \"r\") as file:\n",
    "    csvfile=csv.reader(file)\n",
    "    for i in csvfile:\n",
    "        print(i)"
   ]
  },
  {
   "cell_type": "code",
   "execution_count": 51,
   "id": "af918128",
   "metadata": {},
   "outputs": [
    {
     "name": "stdout",
     "output_type": "stream",
     "text": [
      "Manual approach:\n",
      "1,harsh,mg,41.66666666666666,25\n",
      "2,dastan,alam,43.0,15\n",
      "4,pakiza,git,49.0,14\n",
      "5,yesh,koto,53.66666666666666,26\n",
      "\n",
      "Using csv module:\n",
      "['1', 'harsh', 'mg', '41.66666666666666', '25']\n",
      "['2', 'dastan', 'alam', '43.0', '15']\n",
      "['4', 'pakiza', 'git', '49.0', '14']\n",
      "['5', 'yesh', 'koto', '53.66666666666666', '26']\n",
      "\n",
      "Execution time comparison:\n",
      "Manual approach time: 0.0\n",
      "Using csv module time: 0.0\n"
     ]
    }
   ],
   "source": [
    "\"\"\"\"Develop a Python program that reads a given CSV file and displays its content, excluding the header line. \n",
    "The program should open the file, skip the first line (header), and then process and display the content of the \n",
    "remaining lines.  Please use the manuaaly as well as tranding way.Also compare the time required in both the\n",
    "approaches.\"\"\"\n",
    "\n",
    "import csv\n",
    "import time\n",
    "\n",
    "def manual_read_csv(csv_file):\n",
    "    start_time = time.time()\n",
    "    with open(csv_file, 'r') as file:\n",
    "        lines = file.readlines()\n",
    "        lines = lines[1:]  \n",
    "        for line in lines:\n",
    "            print(line.strip())\n",
    "    end_time = time.time()\n",
    "    return end_time - start_time\n",
    "\n",
    "def csv_module_read_csv(csv_file):\n",
    "    start_time = time.time()\n",
    "    with open(csv_file, 'r') as file:\n",
    "        reader = csv.reader(file)\n",
    "        next(reader) \n",
    "        for row in reader:\n",
    "            print(row)\n",
    "    end_time = time.time()\n",
    "    return end_time - start_time\n",
    "\n",
    "csv_file = 'C:\\\\Users\\\\harsh\\\\OneDrive\\\\Desktop\\\\student5.csv'\n",
    "\n",
    "print(\"Manual approach:\")\n",
    "manual_time = manual_read_csv(csv_file)\n",
    "\n",
    "print(\"\\nUsing csv module:\")\n",
    "csv_module_time = csv_module_read_csv(csv_file)\n",
    "\n",
    "print(\"\\nExecution time comparison:\")\n",
    "print(\"Manual approach time:\", manual_time)\n",
    "print(\"Using csv module time:\", csv_module_time)\n"
   ]
  },
  {
   "cell_type": "code",
   "execution_count": 13,
   "id": "960ceedd",
   "metadata": {},
   "outputs": [
    {
     "name": "stdout",
     "output_type": "stream",
     "text": [
      "{'name': 'age', 'harsh': '20', 'dastan': '20', 'pakiza': '19'}\n"
     ]
    }
   ],
   "source": [
    "\"\"\" Write a Python program to write dictionaries and a list of dictionaries to a given CSV file. please use the \n",
    "csv module for this problem\"\"\"\n",
    "import csv\n",
    "my_dict={}\n",
    "list1=[]\n",
    "with open (\"C:\\\\Users\\\\harsh\\\\OneDrive\\\\Desktop\\\\exm_file21.csv\", \"r\") as file:\n",
    "    csvfile=csv.reader(file)\n",
    "    for i in csvfile:\n",
    "        list1.append(i)\n",
    "my_dict =dict(list1)\n",
    "print(my_dict)"
   ]
  },
  {
   "cell_type": "code",
   "execution_count": 50,
   "id": "c81082f2",
   "metadata": {},
   "outputs": [
    {
     "name": "stdout",
     "output_type": "stream",
     "text": [
      "Total number of words: 6\n",
      "Total number of unique words: 6\n",
      "Unique words: ['age', 'pakiza', '19', 'harsh', 'name', '20']\n"
     ]
    }
   ],
   "source": [
    "\"\"\"Write a python program to read the number of unique words in the csv file and stor ethe result in the list \n",
    "and also cound the total number of words and unique words.\"\"\"\n",
    "\n",
    "\n",
    "import csv\n",
    "\n",
    "def count_unique_words(csv_file):\n",
    "    unique_words = set()\n",
    "    total_word_count = 0\n",
    "\n",
    "    with open(csv_file, 'r') as file:\n",
    "        reader = csv.reader(file)\n",
    "\n",
    "        for row in reader:\n",
    "            for word in row:\n",
    "                words = word.split()\n",
    "                unique_words.update(words)\n",
    "                total_word_count += len(words)\n",
    "    return len(unique_words), total_word_count, list(unique_words)\n",
    "\n",
    "csv_file = 'C:\\\\Users\\\\harsh\\\\OneDrive\\\\Desktop\\\\dup_exm_file.csv'\n",
    "unique_count, total_count, unique_words = count_unique_words(csv_file)\n",
    "\n",
    "print(\"Total number of words:\", total_count)\n",
    "print(\"Total number of unique words:\", unique_count)\n",
    "print(\"Unique words:\", unique_words)\n"
   ]
  },
  {
   "cell_type": "code",
   "execution_count": 30,
   "id": "6701a320",
   "metadata": {},
   "outputs": [
    {
     "name": "stdout",
     "output_type": "stream",
     "text": [
      "[['Roll.No', 'Name', 'School', 'Village'], [], ['20', 'abc', 'vandana ps', 'bhilai'], [], ['56', 'xyz', 'sakti convant ps', 'simga'], []]\n"
     ]
    }
   ],
   "source": [
    "\"\"\"Write a pytohn program to read data from csv file with upto 2 million rows and 300 columns.\"\"\"\n",
    "import csv\n",
    "\n",
    "with open (\"C:\\\\Users\\\\harsh\\\\OneDrive\\\\Desktop\\\\exm_file.csv\", \"r\") as file:\n",
    "    csvfile=csv.reader(file)\n",
    "    data=[]\n",
    "    for i in csvfile:\n",
    "        data.append(i)\n",
    "        \n",
    "num_rows = len(data)\n",
    "num_columns = len(data[0]) if data else 0\n",
    "\n",
    "if num_rows<=2000000 and num_columns<=300:\n",
    "    print(data)\n"
   ]
  },
  {
   "cell_type": "code",
   "execution_count": 65,
   "id": "2386e777",
   "metadata": {},
   "outputs": [
    {
     "name": "stdout",
     "output_type": "stream",
     "text": [
      "['Roll.No', 'Name', 'School', 'Village']\n",
      "[]\n",
      "['20', 'abc', 'vandana ps', 'bhilai']\n",
      "[]\n",
      "['56', 'xyz', 'sakti convant ps', 'simga']\n",
      "[]\n"
     ]
    }
   ],
   "source": [
    "\"\"\"Write a program to write into file “one.csv” Rollno, Name, School and village separated by comma. It should have header \n",
    "row and then take in input from the user for all following rows. The format of the file should be as shown below\n",
    "\n",
    "Roll.No,Name,School,Village\n",
    "20,abc,vandana ps,bhilai\n",
    "56,xyz,sakti convant ps,simga\"\"\"\n",
    "\n",
    "import csv\n",
    "f=[\"Roll.No\",\"Name\",\"School\",\"Village\"]\n",
    "r=[[20,\"abc\",\"vandana ps\",\"bhilai\"],\n",
    "    [56,\"xyz\",\"sakti convant ps\",\"simga\"]]\n",
    "with open (\"C:\\\\Users\\\\harsh\\\\OneDrive\\\\Desktop\\\\one.csv\", \"w\") as file:\n",
    "    csvfile=csv.writer(file)\n",
    "    csvfile.writerow(f)\n",
    "    csvfile.writerows(r)\n",
    "    \n",
    "with open (\"C:\\\\Users\\\\harsh\\\\OneDrive\\\\Desktop\\\\one.csv\", \"r\") as file:\n",
    "    csvfile=csv.reader(file)\n",
    "    for i in csvfile:\n",
    "        print(i)"
   ]
  },
  {
   "cell_type": "code",
   "execution_count": 47,
   "id": "aec76ee7",
   "metadata": {},
   "outputs": [
    {
     "name": "stdout",
     "output_type": "stream",
     "text": [
      "['Rollno', 'Name', 'Marks', 'Age']\n",
      "[]\n",
      "['2', 'dastan', '70', '19']\n",
      "[]\n",
      "['3', 'ishan', '71', '19']\n",
      "[]\n",
      "['4', 'pakiza', '74', '18']\n",
      "[]\n",
      "['5', 'yesh', '72', '19']\n",
      "[]\n"
     ]
    }
   ],
   "source": [
    "\"\"\" Write a program to read all content of “student.csv , please  create it to local system” and display records \n",
    "of only those students who scored less than 75.55 marks and more than 33.33 marks. Records stored in students is \n",
    "in format : Rollno, Name, Marks,Age\"\"\"\n",
    "\n",
    "import csv\n",
    "filed=[\"Rollno\", \"Name\", \"Marks\",\"Age\"]\n",
    "row=[]\n",
    "with open (\"C:\\\\Users\\\\harsh\\\\OneDrive\\\\Desktop\\\\student.csv\", \"r\") as file:\n",
    "    csvfile=csv.reader(file)\n",
    "    for i in csvfile:\n",
    "        if i[0]==\"Rollno\":\n",
    "            continue\n",
    "        elif int(i[2])<=75.55 and int(i[2])>=33.33:\n",
    "            row.append(i)\n",
    "        else:\n",
    "            pass\n",
    "\n",
    "with open (\"C:\\\\Users\\\\harsh\\\\OneDrive\\\\Desktop\\\\student.csv\", \"w\") as file:\n",
    "    csvfile=csv.writer(file)\n",
    "    csvfile.writerow(filed)\n",
    "    csvfile.writerows(row)\n",
    "    \n",
    "with open (\"C:\\\\Users\\\\harsh\\\\OneDrive\\\\Desktop\\\\student.csv\", \"r\") as file:\n",
    "    csvfile=csv.reader(file)\n",
    "    for i in csvfile:\n",
    "        print(i)"
   ]
  },
  {
   "cell_type": "code",
   "execution_count": 72,
   "id": "f326b64c",
   "metadata": {},
   "outputs": [
    {
     "name": "stdout",
     "output_type": "stream",
     "text": [
      "lowest or highest with corresponding student name Data stored in data.svc file\n",
      "inside the  data.svc file\n",
      "['RollNumber', 'Name', 'Marks']\n",
      "[]\n",
      "['1', 'harsh', '76', '19']\n",
      "[]\n",
      "['4', 'pakiza', '69', '18']\n",
      "[]\n"
     ]
    }
   ],
   "source": [
    "\"\"\"Write a program to show the details of the student who scored the highest and lowest marks.Pleasse return\n",
    "the resul on the dictionary which contain the key as lowest or highest with corresponding student name.\n",
    "Data stored in data.svc file as the \n",
    "following formate:\n",
    "RollNumber, Name,Marks\n",
    "1,venki,45\n",
    "2,kanak,78\n",
    "3,suman,89\n",
    ".\n",
    ".\n",
    ".\n",
    "\"\"\"\n",
    "import csv\n",
    "list1=[]\n",
    "fild=['RollNumber', \"Name\",\"Marks\"]\n",
    "store_list=[]\n",
    "with open (\"C:\\\\Users\\\\harsh\\\\OneDrive\\\\Desktop\\\\student3.csv\", \"r\") as file:\n",
    "    csvfile=csv.reader(file)\n",
    "    for i in csvfile:\n",
    "        if i[0]==\"Rollno\":\n",
    "            continue\n",
    "        else:\n",
    "            list1.append(i[2])\n",
    "max_no=max(list1)\n",
    "min_no=min(list1)\n",
    "\n",
    "with open (\"C:\\\\Users\\\\harsh\\\\OneDrive\\\\Desktop\\\\student3.csv\", \"r\") as file:\n",
    "    csvfile=csv.reader(file)\n",
    "    for i in csvfile:\n",
    "        if i[2]==max_no:\n",
    "            store_list.append(i)\n",
    "        elif i[2]==min_no:\n",
    "            store_list.append(i)\n",
    "            \n",
    "print(\"lowest or highest with corresponding student name Data stored in data.svc file\")\n",
    "\n",
    "with open (\"C:\\\\Users\\\\harsh\\\\OneDrive\\\\Desktop\\\\data.csv\", \"w\") as file:\n",
    "    csvfile=csv.writer(file)\n",
    "    csvfile.writerow(fild)\n",
    "    csvfile.writerows(store_list)\n",
    "    \n",
    "print(\"inside the  data.svc file\")\n",
    "with open (\"C:\\\\Users\\\\harsh\\\\OneDrive\\\\Desktop\\\\data.csv\", \"r\") as file:\n",
    "    csvfile=csv.reader(file)\n",
    "    for i in csvfile:\n",
    "        print(i)\n",
    "    \n",
    "        \n"
   ]
  },
  {
   "cell_type": "code",
   "execution_count": 133,
   "id": "42a36bde",
   "metadata": {},
   "outputs": [
    {
     "name": "stdout",
     "output_type": "stream",
     "text": [
      "it have some data \n",
      "['name ', 'gender']\n",
      "['mom', 'f']\n",
      "['dad', 'm']\n",
      "['pc', 'oharsh', 'm']\n",
      "['dastan', 'm']\n",
      "['yesh ', 'm']\n",
      "['pakiza', 'f']\n",
      "['yesh ', 'm']\n",
      "['khalina', 'f']\n"
     ]
    }
   ],
   "source": [
    "\"\"\"Write a Python program to merge two CSV files into a single existing file.make sure the existing single file\n",
    "already contain some data ,if it is empty  then you will not be able to write the data to file.\"\"\"\n",
    "import csv\n",
    "\n",
    "def write(list1):\n",
    "    with open(\"C:\\\\Users\\\\harsh\\\\OneDrive\\\\Desktop\\\\singl.csv\",\"a+\",newline='') as file:\n",
    "        csvfile=csv.writer(file)\n",
    "        csvfile.writerows(list1)\n",
    "    with open(\"C:\\\\Users\\\\harsh\\\\OneDrive\\\\Desktop\\\\singl.csv\",\"r\") as file:\n",
    "        csvfile=csv.reader(file)\n",
    "        for i in csvfile:\n",
    "            print(i)\n",
    "    \n",
    "\n",
    "list1=[]\n",
    "with open(\"C:\\\\Users\\\\harsh\\\\OneDrive\\\\Desktop\\\\data1.csv\",\"r\") as file:\n",
    "    csvfile=csv.reader(file)\n",
    "    next(csvfile)\n",
    "    for i in csvfile:\n",
    "            list1.append(i)\n",
    "with open(\"C:\\\\Users\\\\harsh\\\\OneDrive\\\\Desktop\\\\data2.csv\",\"r\") as file:\n",
    "    csvfile=csv.reader(file)\n",
    "    next(csvfile)\n",
    "    for i in csvfile:\n",
    "            list1.append(i)\n",
    "            \n",
    "with open(\"C:\\\\Users\\\\harsh\\\\OneDrive\\\\Desktop\\\\singl.csv\",\"r\") as file:\n",
    "    csvfile=csv.reader(file)\n",
    "    for i in csvfile:\n",
    "        if i is not None:\n",
    "            somedata=1\n",
    "    if somedata==1:\n",
    "        print(\"it have some data \")\n",
    "        write(list1)\n",
    "    else:\n",
    "        print(\"it dont have data\")"
   ]
  },
  {
   "cell_type": "code",
   "execution_count": 21,
   "id": "d12be7bb",
   "metadata": {},
   "outputs": [
    {
     "name": "stdout",
     "output_type": "stream",
     "text": [
      "all the duplicate rows in the form of list of tuples (['harsh', '20'],)\n",
      "['name', 'age']\n",
      "[]\n",
      "['harsh', '20']\n",
      "[]\n",
      "['pakiza', '19']\n",
      "[]\n"
     ]
    }
   ],
   "source": [
    "\"\"\"Write a Python program to remove duplicate rows from a CSV file and return all the duplicate rows in the form \n",
    "of list of tuples.\n",
    "\"\"\"\n",
    "import csv\n",
    "unique=[]\n",
    "\n",
    "duplicate_rows=[]\n",
    "with open (\"C:\\\\Users\\\\harsh\\\\OneDrive\\\\Desktop\\\\dup_exm_file.csv\", \"r\") as file:\n",
    "    csvfile=csv.reader(file)\n",
    "    for i in csvfile:\n",
    "        if i not in unique:\n",
    "            unique.append(i)\n",
    "        else:\n",
    "            duplicate_rows.append(i)\n",
    "#     csvfil1.writerows(unique)\n",
    "with open (\"C:\\\\Users\\\\harsh\\\\OneDrive\\\\Desktop\\\\dup_exm_file.csv\", \"w\") as file:\n",
    "        csvfil1=csv.writer(file)\n",
    "        csvfil1.writerows(unique)\n",
    "print(\"all the duplicate rows in the form of list of tuples\",tuple(duplicate_rows))\n",
    "\n",
    "with open( \"C:\\\\Users\\\\harsh\\\\OneDrive\\\\Desktop\\\\dup_exm_file.csv\", \"r\") as file:\n",
    "    csvfile=csv.reader(file)\n",
    "    for i in csvfile:\n",
    "        print(i)\n",
    "\n",
    "\n"
   ]
  },
  {
   "cell_type": "code",
   "execution_count": 34,
   "id": "c84bfbdf",
   "metadata": {},
   "outputs": [
    {
     "name": "stdout",
     "output_type": "stream",
     "text": [
      "['name', 'age']\n",
      "['harsh', '20']\n",
      "['harsh', '20']\n",
      "['pakiza', '19']\n",
      "['yesh', '20']\n",
      "['pero', '19']\n",
      "['New Data 1', 'New Data 2', 'New Data 3']\n",
      "['New Data 1', 'New Data 2', 'New Data 3']\n",
      "['New Data 1', 'New Data 2', 'New Data 3']\n",
      "['milt', '19h', 'e', 'l', 'l', 'o']\n",
      "['9', '0']\n",
      "['hello', '90']\n",
      "['hello', '90']\n",
      "['hello', '90']\n",
      "['hello', '90']\n",
      "['hello', '90']\n"
     ]
    }
   ],
   "source": [
    "\"\"\"\"Write a Python program to append new rows to an existing CSV file. Note append the new row at the middle of \n",
    "all the row\"\"\"\n",
    "\n",
    "import csv\n",
    "\n",
    "def append_row_to_csv(csv_file, new_row):\n",
    "    rows = []\n",
    "    with open(csv_file, 'r') as file:\n",
    "        reader = csv.reader(file)\n",
    "        rows = list(reader)\n",
    "    midpoint = len(rows) // 2\n",
    "    \n",
    "    rows.insert(midpoint, new_row)\n",
    "    \n",
    "    with open(csv_file, 'w', newline='') as file:\n",
    "        writer = csv.writer(file)\n",
    "        writer.writerows(rows)\n",
    "        \n",
    "    with open( \"C:\\\\Users\\\\harsh\\\\OneDrive\\\\Desktop\\\\7.csv\", \"r\") as file:\n",
    "        csvfile=csv.reader(file)\n",
    "        for i in csvfile:\n",
    "            print(i)\n",
    "\n",
    "\n",
    "csv_file = 'C:\\\\Users\\\\harsh\\\\OneDrive\\\\Desktop\\\\7.csv'\n",
    "new_row = ['New Data 1', 'New Data 2', 'New Data 3']\n",
    "\n",
    "append_row_to_csv(csv_file, new_row)"
   ]
  },
  {
   "cell_type": "code",
   "execution_count": 40,
   "id": "e0bce51a",
   "metadata": {},
   "outputs": [
    {
     "name": "stdout",
     "output_type": "stream",
     "text": [
      "Maximum value: 76\n",
      "Row index(es): [0]\n"
     ]
    }
   ],
   "source": [
    "\"\"\"How can we design a Python program that efficiently reads a large CSV file and identifies the maximum value \n",
    "within a specified column? The program should handle various data types, gracefully handle missing or invalid\n",
    "values, and provide the row index information associated with the maximum value.\"\"\"\n",
    "import pandas as pd\n",
    "def find_max_value(csv_file, column_name):\n",
    "    df = pd.read_csv(csv_file)\n",
    "    df[column_name] = pd.to_numeric(df[column_name], errors='coerce')\n",
    "    max_value = df[column_name].max()\n",
    "    max_row_index = df[df[column_name] == max_value].index.tolist()\n",
    "\n",
    "    return max_value, max_row_index\n",
    "\n",
    "csv_file = 'C:\\\\Users\\\\harsh\\\\OneDrive\\\\Desktop\\\\student3.csv'\n",
    "column_name = 'Marks'\n",
    "max_value, max_row_index = find_max_value(csv_file, column_name)\n",
    "\n",
    "if pd.isna(max_value):\n",
    "    print(\"The column contains missing or invalid values.\")\n",
    "else:\n",
    "    print(\"Maximum value:\", max_value)\n",
    "    print(\"Row index(es):\", max_row_index)\n"
   ]
  },
  {
   "cell_type": "code",
   "execution_count": 44,
   "id": "bfa1f425",
   "metadata": {},
   "outputs": [
    {
     "name": "stdout",
     "output_type": "stream",
     "text": [
      "['student_id', 'first_name', 'last_name', 'average_score']\n",
      "['1', 'harsh', 'mg', '41.666666666666664']\n",
      "['2', 'dastan', 'alam', '43.0']\n",
      "['3', 'ishan', 'sahu', '46.666666666666664']\n",
      "['4', 'pakiza', 'git', '49.0']\n",
      "['5', 'yesh', 'koto', '53.666666666666664']\n"
     ]
    }
   ],
   "source": [
    "\"\"\"Write a Python program that reads a CSV file containing student records, calculates \n",
    "the average score for each student, and writes the results to a new CSV file.\n",
    "The input CSV file has the following structure:\n",
    "\n",
    "python\n",
    "Copy code\n",
    "student_id,first_name,last_name,score1,score2,score3\n",
    "1,John,Doe,85,90,92\n",
    "2,Jane,Smith,78,85,80\n",
    "3,Michael,Johnson,92,88,95\n",
    "...\n",
    "The program should perform the following tasks:\n",
    "Read the student records from the input CSV file.\n",
    "For each student, calculate the average score by summing the scores and dividing by the total number of scores.\n",
    "Write the student ID, first name, last name, and average score to a new CSV file.\n",
    "The output CSV file should have the following structure:\n",
    "python\n",
    "Copy code\n",
    "student_id,first_name,last_name,average_score\n",
    "1,John,Doe,89.0\n",
    "2,Jane,Smith,81.0\n",
    "3,Michael,Johnson,91.66666666666667\n",
    "...\n",
    "Write a Python program that accomplishes the above tasks efficiently, handles errors or missing data gracefully, and produces accurate average scores for each student.\n",
    "Note : you can use predefine modules.\n",
    "\"\"\"\n",
    "\n",
    "import pandas as pd\n",
    "\n",
    "def calculate_average_score(input_file, output_file):\n",
    "    df = pd.read_csv(input_file)\n",
    "    df['average_score'] = df[['score1', 'score2', 'score3']].mean(axis=1)\n",
    "    df[['student_id', 'first_name', 'last_name', 'average_score']].to_csv(output_file, index=False)\n",
    "\n",
    "input_file = 'C:\\\\Users\\\\harsh\\\\OneDrive\\\\Desktop\\\\student4.csv'\n",
    "output_file = 'C:\\\\Users\\\\harsh\\\\OneDrive\\\\Desktop\\\\student5.csv'\n",
    "\n",
    "with open( \"C:\\\\Users\\\\harsh\\\\OneDrive\\\\Desktop\\\\student5.csv\", \"r\") as file:\n",
    "        csvfile=csv.reader(file)\n",
    "        for i in csvfile:\n",
    "            print(i)\n",
    "calculate_average_score(input_file, output_file)\n"
   ]
  },
  {
   "cell_type": "code",
   "execution_count": 45,
   "id": "871eed1c",
   "metadata": {},
   "outputs": [
    {
     "name": "stdout",
     "output_type": "stream",
     "text": [
      "Character count of deleted row: 27\n"
     ]
    }
   ],
   "source": [
    "\"\"\"write a program to delete row of csv file, The deleted row should have the maximum number of character count\n",
    "with respect to all column value correspong to this row,If two row contain the same count then delete the row\n",
    "which is come first, Also return the character count of row.Use any csv file\n",
    "\n",
    "example : \n",
    "if the row is (nikkii,20,raipur)\n",
    "character count is : 14\n",
    "\"\"\"\n",
    "import pandas as pd\n",
    "\n",
    "def delete_row_with_max_character_count(csv_file):\n",
    "    df = pd.read_csv(csv_file)\n",
    "    df['character_count'] = df.apply(lambda row: sum([len(str(cell)) for cell in row]), axis=1)\n",
    "    max_count_row_index = df['character_count'].idxmax()\n",
    "    max_count = df.loc[max_count_row_index, 'character_count']\n",
    "    df = df.drop(max_count_row_index)\n",
    "    df.to_csv(csv_file, index=False)\n",
    "    return max_count\n",
    "\n",
    "csv_file = 'C:\\\\Users\\\\harsh\\\\OneDrive\\\\Desktop\\\\student5.csv'\n",
    "max_count = delete_row_with_max_character_count(csv_file)\n",
    "print(\"Character count of deleted row:\", max_count)\n",
    "\n",
    "\n"
   ]
  },
  {
   "cell_type": "code",
   "execution_count": 47,
   "id": "6f0914b1",
   "metadata": {},
   "outputs": [
    {
     "name": "stdout",
     "output_type": "stream",
     "text": [
      "Total comma count: 4\n"
     ]
    }
   ],
   "source": [
    "\"\"\"Write a python program to read data in the csv file with 200 MB or above.Also return the count of total number \n",
    "of comma present in this csv file.\"\"\"\n",
    "\n",
    "import csv\n",
    "\n",
    "def read_large_csv_file(csv_file):\n",
    "    total_comma_count = 0\n",
    "    with open(csv_file, 'r') as file:\n",
    "        reader = csv.reader(file)\n",
    "        for row in reader:\n",
    "            comma_count = row.count(',')\n",
    "            total_comma_count += comma_count\n",
    "    return total_comma_count\n",
    "csv_file = 'C:\\\\Users\\\\harsh\\\\OneDrive\\\\Desktop\\\\coma.csv'\n",
    "comma_count = read_large_csv_file(csv_file)\n",
    "print(\"Total comma count:\", comma_count)\n",
    "\n"
   ]
  }
 ],
 "metadata": {
  "kernelspec": {
   "display_name": "Python 3 (ipykernel)",
   "language": "python",
   "name": "python3"
  },
  "language_info": {
   "codemirror_mode": {
    "name": "ipython",
    "version": 3
   },
   "file_extension": ".py",
   "mimetype": "text/x-python",
   "name": "python",
   "nbconvert_exporter": "python",
   "pygments_lexer": "ipython3",
   "version": "3.11.4"
  }
 },
 "nbformat": 4,
 "nbformat_minor": 5
}
