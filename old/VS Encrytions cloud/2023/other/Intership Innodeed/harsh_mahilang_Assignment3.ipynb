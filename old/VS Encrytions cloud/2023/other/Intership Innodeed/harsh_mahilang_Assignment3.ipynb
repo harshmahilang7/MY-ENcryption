{
 "cells": [
  {
   "cell_type": "markdown",
   "id": "09b73f4c",
   "metadata": {},
   "source": [
    "# <center>Python Functions<center/> "
   ]
  },
  {
   "cell_type": "markdown",
   "id": "b10d19fc",
   "metadata": {},
   "source": [
    "To make the output look attractive\n",
    "we use the str.format() method.\n",
    "This method is visible to any string object."
   ]
  },
  {
   "cell_type": "code",
   "execution_count": 63,
   "id": "9540cfeb",
   "metadata": {},
   "outputs": [
    {
     "name": "stdout",
     "output_type": "stream",
     "text": [
      "enter the string:hasrh\n",
      "consonant count is  4\n",
      "vowel count is  1\n"
     ]
    }
   ],
   "source": [
    "\"\"\" Define a function which counts vowels and consonant in a word.\"\"\"\n",
    "# Write code here\n",
    "\n",
    "def takestr(str):\n",
    "    vowel_Count=0\n",
    "    consonant_count=0\n",
    "    for i in range(0,len(str)):\n",
    "        if str[i]==\"a\" or str[i]==\"e\" or str[i]==\"i\" or str[i]==\"o\" or str[i]==\"u\" or str[i]==\"A\" or str[i]==\"E\"or str[i]==\"I\"or str[i]==\"O\"or str[i]==\"U\":\n",
    "            vowel_Count=vowel_Count+1\n",
    "        else:\n",
    "            consonant_count=consonant_count+1\n",
    "    print(\"consonant count is \",consonant_count)\n",
    "    print(\"vowel count is \",vowel_Count)\n",
    "\n",
    "str=input(\"enter the string:\")\n",
    "takestr(str)\n"
   ]
  },
  {
   "cell_type": "code",
   "execution_count": 44,
   "id": "2ac80c7b",
   "metadata": {},
   "outputs": [
    {
     "name": "stdout",
     "output_type": "stream",
     "text": [
      "enter the string:harsh\n",
      "hrsh\n"
     ]
    }
   ],
   "source": [
    "\"\"\"Write a function that takes in a string and returns the string with all the vowels\n",
    "removed.\"\"\"\n",
    "# Write code here\n",
    "\n",
    "import re\n",
    "def remove_vowel(string):\n",
    "    return (re.sub(\"[aeiouAEIOU]\",\"\",string))            \n",
    "  \n",
    "str=input(\"enter the string:\")\n",
    "print(remove_vowel(str))"
   ]
  },
  {
   "cell_type": "code",
   "execution_count": 12,
   "id": "f7af3763",
   "metadata": {},
   "outputs": [
    {
     "name": "stdout",
     "output_type": "stream",
     "text": [
      "Enter number of elements : 5\n",
      "2\n",
      "3\n",
      "4\n",
      "1\n",
      "5\n",
      "maximum sum that can be obtained by adding any two numbers from the list: 9\n"
     ]
    }
   ],
   "source": [
    "\"\"\"Write a Python function that takes a list of integers as input and \n",
    "returns the maximum sum that can be obtained by adding any two numbers from the list.\n",
    "The function should have a time complexity of O(n), where n is the length of the list.\"\"\"\n",
    "# Write code here\n",
    "\n",
    "def max_sum_pair(lst):\n",
    "    if len(lst) < 2:\n",
    "        raise ValueError(\"Input list should contain at least two numbers.\")\n",
    "\n",
    "    max_sum = float('-inf')\n",
    "    max_num = float('-inf')\n",
    "    second_max = float('-inf')\n",
    "\n",
    "    for num in lst:\n",
    "        if num > max_num:\n",
    "            second_max = max_num\n",
    "            max_num = num\n",
    "        elif num > second_max:\n",
    "            second_max = num\n",
    "    max_sum = max_num + second_max\n",
    "    return max_sum\n",
    "\n",
    "\n",
    "lst1=[]\n",
    "n = int(input(\"Enter number of elements : \"))\n",
    "for i in range(0,n):\n",
    "    ele = int(input())\n",
    "    lst1.append(ele)\n",
    "print(\"maximum sum that can be obtained by adding any two numbers from the list:\",max_sum_pair(lst1))\n"
   ]
  },
  {
   "cell_type": "code",
   "execution_count": 1,
   "id": "ab75a314",
   "metadata": {},
   "outputs": [
    {
     "name": "stdout",
     "output_type": "stream",
     "text": [
      "Enter a number: 5\n",
      "The factorial of 5 is 120\n",
      "the factorials calculated in a dictionary {1: 1, 2: 2, 3: 6, 4: 24, 5: 120}\n"
     ]
    }
   ],
   "source": [
    "\"\"\"Write a function to find factorial of a number but also store the factorials calculated in a dictionary\n",
    "as done in the Fibonacci series example.\"\"\"\n",
    "# Write code here\n",
    "\n",
    "\n",
    "num = int(input(\"Enter a number: \"))    \n",
    "factorial = 1    \n",
    "stor_dis={}\n",
    "if num < 0:    \n",
    "   print(\" Factorial does not exist for negative numbers\")    \n",
    "elif num == 0:    \n",
    "   print(\"The factorial of 0 is 1\")    \n",
    "else:    \n",
    "    for i in range(1,num + 1): \n",
    "        c=factorial*i\n",
    "        factorial = factorial*i\n",
    "        stor_dis[i] = c\n",
    "    print(\"The factorial of\",num,\"is\",factorial)\n",
    "    print(\"the factorials calculated in a dictionary\",stor_dis)"
   ]
  },
  {
   "cell_type": "code",
   "execution_count": 3,
   "id": "d4a0ccf0",
   "metadata": {},
   "outputs": [
    {
     "name": "stdout",
     "output_type": "stream",
     "text": [
      "enter the number6\n",
      "enter the number5\n",
      "Addition of this two number in the hexadecimal 0xb\n",
      "the value in hexadecimal which stored on list ['0xb']\n"
     ]
    }
   ],
   "source": [
    "\"\"\". Write a function prodDigits() that inputs two numbers and returns the product and addition of this two number \n",
    "in the hexadecimal formate and also return the value in hexadecimal which stored on list\"\"\"\n",
    "# Write code here\n",
    "\n",
    "def prodDigits(a,b):\n",
    "    c=a+b\n",
    "    hex_val=hex(c)\n",
    "    return hex_val\n",
    "\n",
    "x=int(input(\"enter the number\"))\n",
    "y=int(input(\"enter the number\"))\n",
    "lst1=[(prodDigits(x,y))]\n",
    "print(\"Addition of this two number in the hexadecimal\",(prodDigits(x,y)))\n",
    "print(\"the value in hexadecimal which stored on list\",lst1)"
   ]
  },
  {
   "cell_type": "code",
   "execution_count": 6,
   "id": "1c47d717",
   "metadata": {},
   "outputs": [
    {
     "name": "stdout",
     "output_type": "stream",
     "text": [
      "gausian transform in the form of array\n",
      "[[0.36787944 0.53526143 0.60653066 0.53526143 0.36787944]\n",
      " [0.53526143 0.77880078 0.8824969  0.77880078 0.53526143]\n",
      " [0.60653066 0.8824969  1.         0.8824969  0.60653066]\n",
      " [0.53526143 0.77880078 0.8824969  0.77880078 0.53526143]\n",
      " [0.36787944 0.53526143 0.60653066 0.53526143 0.36787944]]\n"
     ]
    }
   ],
   "source": [
    "\"\"\"write a program in python function which return the  gausian transform in the form of array\"\"\"\n",
    "# Write code here\n",
    "\n",
    "\n",
    "import numpy as np\n",
    "x, y = np.meshgrid(np.linspace(-1,1,5), np.linspace(-1,1,5))\n",
    "d = np.sqrt(x*x+y*y)\n",
    "sigma, mu = 1.0, 0.0\n",
    "arry = np.exp(-( (d-mu)**2 / ( 2.0 * sigma**2 ) ) )\n",
    "print(\"gausian transform in the form of array\")\n",
    "print(arry)\n"
   ]
  },
  {
   "cell_type": "code",
   "execution_count": 14,
   "id": "17a91d58",
   "metadata": {},
   "outputs": [
    {
     "name": "stdout",
     "output_type": "stream",
     "text": [
      "LAMBDA function to add values from two lists and create a new list [2, 4, 6, 8, 10]\n"
     ]
    }
   ],
   "source": [
    "\"\"\"Write a program with LAMBDA function to add values from two lists and create a new list.\"\"\"\n",
    "# Write code here\n",
    "\n",
    "def Lambda_fun(n1,n2):\n",
    "    return map(lambda x, y: x + y, n1, n2)\n",
    "\n",
    "lst1=[1,2,3,4,5]\n",
    "lst2=[1,2,3,4,5]\n",
    "    \n",
    "mydo = Lambda_fun(lst1,lst2)\n",
    "lst3=list(mydo)\n",
    "print(\"LAMBDA function to add values from two lists and create a new list\",lst3)\n"
   ]
  },
  {
   "cell_type": "code",
   "execution_count": 15,
   "id": "5d33fb1a",
   "metadata": {},
   "outputs": [
    {
     "name": "stdout",
     "output_type": "stream",
     "text": [
      "enter the a:4\n",
      "enter the b:2\n",
      "the value for (a-b)^3 using lambda 8\n"
     ]
    }
   ],
   "source": [
    "\"\"\"Write a Python program with LAMBDA functioon to find the value for (a-b)^3 using lambda\"\"\"\n",
    "# Write code here\n",
    "\n",
    "def Lambda_fun(n):\n",
    "    return lambda a: (a-n)**3\n",
    "a=int(input(\"enter the a:\"))\n",
    "b=int(input(\"enter the b:\"))\n",
    "mydo = Lambda_fun(b)\n",
    "print('the value for (a-b)^3 using lambda',mydo(a))"
   ]
  },
  {
   "cell_type": "code",
   "execution_count": 3,
   "id": "6bdead82",
   "metadata": {},
   "outputs": [
    {
     "name": "stdout",
     "output_type": "stream",
     "text": [
      "Enter the string==The five boxing wizards jump quickly.\n",
      "a string is a pangram \n"
     ]
    }
   ],
   "source": [
    "\"\"\"Write a Python function to check whether a string is a pangram or not.\"\"\"\n",
    "# Write code here\n",
    "def ispangram(str):\n",
    "    all=\"abcdefghijklmnopqrstuvwxyz\"\n",
    "    for i in all:\n",
    "        if i not in str.lower():\n",
    "            c=0\n",
    "        else:\n",
    "            c=1    \n",
    "    return c\n",
    "            \n",
    "str=input(\"Enter the string==\")\n",
    "v=ispangram(str)\n",
    "if v==1:\n",
    "    print(\"a string is a pangram \")\n",
    "else:\n",
    "    print(\"a string is not a pangram \")"
   ]
  },
  {
   "cell_type": "code",
   "execution_count": 7,
   "id": "f004a303",
   "metadata": {},
   "outputs": [
    {
     "name": "stdout",
     "output_type": "stream",
     "text": [
      "enter the number5\n",
      "      1 \n",
      "     1 1 \n",
      "    1 2 1 \n",
      "   1 3 3 1 \n",
      "  1 4 6 4 1 \n"
     ]
    }
   ],
   "source": [
    "\"\"\"Write a Python function that prints out the first n rows of Pascal's triangle.\"\"\"\n",
    "# Write code here\n",
    "from math import factorial\n",
    " \n",
    "n = int(input(\"enter the number\"))\n",
    "for i in range(n):\n",
    "    for j in range(n-i+1):\n",
    "        print(end=\" \")\n",
    "    for j in range(i+1):\n",
    "        print(factorial(i)//(factorial(j)*factorial(i-j)), end=\" \")\n",
    "    print()"
   ]
  },
  {
   "cell_type": "code",
   "execution_count": 13,
   "id": "0bbadcff",
   "metadata": {},
   "outputs": [
    {
     "name": "stdout",
     "output_type": "stream",
     "text": [
      "enter the farenhite=98\n",
      "celcius 37.66666666666667\n"
     ]
    }
   ],
   "source": [
    "\"\"\"write a python lambda function which take farenhite as input and return celcius as output\"\"\"\n",
    "# Write code here\n",
    "\n",
    "def Lambda_fun(f):\n",
    "    return lambda a: a+(5/9*(f-32))\n",
    "f=int(input(\"enter the farenhite=\"))\n",
    "mydo = Lambda_fun(f)\n",
    "print(\"celcius\",mydo(1))\n"
   ]
  },
  {
   "cell_type": "code",
   "execution_count": 17,
   "id": "567d21ae",
   "metadata": {},
   "outputs": [
    {
     "name": "stdout",
     "output_type": "stream",
     "text": [
      "Prime numbers between 100 and 200 are:\n",
      "101\n",
      "103\n",
      "107\n",
      "109\n",
      "113\n",
      "127\n",
      "131\n",
      "137\n",
      "139\n",
      "149\n",
      "151\n",
      "157\n",
      "163\n",
      "167\n",
      "173\n",
      "179\n",
      "181\n",
      "191\n",
      "193\n",
      "197\n",
      "199\n"
     ]
    }
   ],
   "source": [
    "\"\"\"write a python function which returns the prime number between -100-200 \"\"\"\n",
    "# Write code here\n",
    "\n",
    "def prime_no(lower,upper):\n",
    "    for num in range(lower, upper + 1):\n",
    "        if num > 1:\n",
    "            for i in range(2, num):\n",
    "                if (num % i) == 0:\n",
    "                    break\n",
    "            else:\n",
    "                print(num)\n",
    "\n",
    "lower = 100\n",
    "upper = 200\n",
    "\n",
    "print(\"Prime numbers between\", lower, \"and\", upper, \"are:\")\n",
    "prime_no(lower,upper)\n"
   ]
  },
  {
   "cell_type": "code",
   "execution_count": 42,
   "id": "014eaa2c",
   "metadata": {},
   "outputs": [
    {
     "name": "stdout",
     "output_type": "stream",
     "text": [
      "enter the string:i am dastan_alam\n",
      "(('i', 0), ('a', 2), ('a', 6), ('a', 9), ('a', 12), ('a', 14))\n"
     ]
    }
   ],
   "source": [
    "\"\"\"write a python function which takes a string sentence as input, which finds all the finds and stored these vowels \n",
    "in the list with there original position in the original sentence as the form of tuple like : [(\"a\",1),(\"b\",1),...]\"\"\"\n",
    "# Write code here\n",
    "\n",
    "def find_vowel(str):\n",
    "    ele_lst=[]\n",
    "    \n",
    "    for i in range(0,len(str)):\n",
    "        if str[i]==\"a\" or str[i]==\"e\" or str[i]==\"i\" or str[i]==\"o\" or str[i]==\"u\" or str[i]==\"A\" or str[i]==\"E\"or str[i]==\"I\"or str[i]==\"O\"or str[i]==\"U\":\n",
    "            ele_lst.append((str[i],i))\n",
    "    tup=tuple(ele_lst)\n",
    "    print(tup)\n",
    "\n",
    "str=input(\"enter the string:\")\n",
    "find_vowel(str)"
   ]
  },
  {
   "cell_type": "code",
   "execution_count": 2,
   "id": "98c93dda",
   "metadata": {},
   "outputs": [
    {
     "name": "stdout",
     "output_type": "stream",
     "text": [
      "enter the string:dastan7alam\n",
      "malanatsad7\n"
     ]
    }
   ],
   "source": [
    "\"\"\"Write a Python program with function to reverse a string.And if the string contain any numerical value then\n",
    "it should append at the last\"\"\"\n",
    "# Write code here\n",
    "import re\n",
    "\n",
    "def check(str):\n",
    "    check=str.isalnum()\n",
    "    if check==True:\n",
    "        onlynum=re.sub(\"[abcdefghijklmnopqrstvwxyzABCDEFGHIJKLMNOPQRSTUVWXYZ]\",\"\",str)\n",
    "        onlyalp=re.sub(\"[0123456789]\",\"\",str)\n",
    "        print(onlyalp[::-1]+onlynum)\n",
    "        \n",
    "str=input(\"enter the string:\")\n",
    "check(str)\n"
   ]
  },
  {
   "cell_type": "code",
   "execution_count": 12,
   "id": "79bc9353",
   "metadata": {},
   "outputs": [
    {
     "name": "stdout",
     "output_type": "stream",
     "text": [
      "twin primes less than 2214:\n",
      "3 and 5\n",
      "5 and 7\n",
      "11 and 13\n",
      "17 and 19\n",
      "29 and 31\n",
      "41 and 43\n",
      "59 and 61\n",
      "71 and 73\n",
      "101 and 103\n",
      "107 and 109\n",
      "137 and 139\n",
      "149 and 151\n",
      "179 and 181\n",
      "191 and 193\n",
      "197 and 199\n",
      "227 and 229\n",
      "239 and 241\n",
      "269 and 271\n",
      "281 and 283\n",
      "311 and 313\n",
      "347 and 349\n",
      "419 and 421\n",
      "431 and 433\n",
      "461 and 463\n",
      "521 and 523\n",
      "569 and 571\n",
      "599 and 601\n",
      "617 and 619\n",
      "641 and 643\n",
      "659 and 661\n",
      "809 and 811\n",
      "821 and 823\n",
      "827 and 829\n",
      "857 and 859\n",
      "881 and 883\n",
      "1019 and 1021\n",
      "1031 and 1033\n",
      "1049 and 1051\n",
      "1061 and 1063\n",
      "1091 and 1093\n",
      "1151 and 1153\n",
      "1229 and 1231\n",
      "1277 and 1279\n",
      "1289 and 1291\n",
      "1301 and 1303\n",
      "1319 and 1321\n",
      "1427 and 1429\n",
      "1451 and 1453\n",
      "1481 and 1483\n",
      "1487 and 1489\n",
      "1607 and 1609\n",
      "1619 and 1621\n",
      "1667 and 1669\n",
      "1697 and 1699\n",
      "1721 and 1723\n",
      "1787 and 1789\n",
      "1871 and 1873\n",
      "1877 and 1879\n",
      "1931 and 1933\n",
      "1949 and 1951\n",
      "1997 and 1999\n",
      "2027 and 2029\n",
      "2081 and 2083\n",
      "2087 and 2089\n",
      "2111 and 2113\n",
      "2129 and 2131\n",
      "2141 and 2143\n"
     ]
    }
   ],
   "source": [
    "\"\"\"2. Write a program to print twin primes less than 2214. \n",
    "If two consecutive odd numbers are both prime then they are known as twin primes¶\"\"\"\n",
    "# Write code here\n",
    "\n",
    "def prime_no(n):\n",
    "    for j in range(2, n):\n",
    "        if (n % j) == 0:\n",
    "            return False\n",
    "    else:\n",
    "        return True\n",
    "\n",
    "def twin_prime(start,end):\n",
    "    for i in range(start,end):\n",
    "        j=i+2\n",
    "        if (prime_no(i))and(prime_no(j)):\n",
    "            print(\"{0} and {1}\".format(i,j))\n",
    "print(\"twin primes less than 2214:\")\n",
    "twin_prime(2,2214)"
   ]
  }
 ],
 "metadata": {
  "kernelspec": {
   "display_name": "Python 3 (ipykernel)",
   "language": "python",
   "name": "python3"
  },
  "language_info": {
   "codemirror_mode": {
    "name": "ipython",
    "version": 3
   },
   "file_extension": ".py",
   "mimetype": "text/x-python",
   "name": "python",
   "nbconvert_exporter": "python",
   "pygments_lexer": "ipython3",
   "version": "3.10.9"
  }
 },
 "nbformat": 4,
 "nbformat_minor": 5
}
