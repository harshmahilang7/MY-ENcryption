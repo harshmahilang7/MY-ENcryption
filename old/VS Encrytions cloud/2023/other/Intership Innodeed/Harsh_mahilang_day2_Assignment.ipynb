{
 "cells": [
  {
   "cell_type": "markdown",
   "metadata": {},
   "source": [
    "# <center>Python Basics<center/> \n",
    "<img height=\"60\" width=\"120\" src=\"https://www.python.org/static/img/python-logo-large.png?1414305901\"></img>"
   ]
  },
  {
   "cell_type": "markdown",
   "metadata": {},
   "source": [
    "To make the output look attractive<br/> \n",
    "we use the <b> str.format() </b> method.<br/> \n",
    "This method is visible to any string object."
   ]
  },
  {
   "cell_type": "code",
   "execution_count": 4,
   "metadata": {},
   "outputs": [
    {
     "name": "stdout",
     "output_type": "stream",
     "text": [
      "myInt1:20 is the half of myInt2:40\n"
     ]
    }
   ],
   "source": [
    "myInt1 = 20\n",
    "myInt2 = 40                                                \n",
    "\n",
    "# Print the above variable values in the given format\n",
    "# myInt1: 20 is the half of myInt2: 40\n",
    "\n",
    "print(\"myInt1:{0} is the half of myInt2:{1}\".format(myInt1,myInt2))\n"
   ]
  },
  {
   "cell_type": "code",
   "execution_count": 3,
   "metadata": {},
   "outputs": [
    {
     "name": "stdout",
     "output_type": "stream",
     "text": [
      "myInt2:40 is the double of myInt1:20\n"
     ]
    }
   ],
   "source": [
    "myInt1 = 20\n",
    "myInt2 = 40 \n",
    "\n",
    "# Print the above variable values in the given format using format() function\n",
    "# myInt2: myInt2 is double of myInt1: myInt1\n",
    "print(\"myInt2:{0} is the double of myInt1:{1}\".format(myInt2,myInt1))"
   ]
  },
  {
   "cell_type": "code",
   "execution_count": 21,
   "metadata": {},
   "outputs": [
    {
     "name": "stdout",
     "output_type": "stream",
     "text": [
      "Welcome Interns, to the world of Data Science. we are learning Python \n"
     ]
    }
   ],
   "source": [
    "# Also a combination of positional arguments with keyword arguments is applicable given format function, format('Data Science', 'Interns', Subject='Python'))\n",
    "# print, Welcome Interns, to the world of Data Science. We are learning Python.\n",
    "\n",
    "\n",
    "print(\"Welcome {1}, to the world of {0}. we are learning {Subject} \".format('Data Science', 'Interns', Subject=\"Python\"))\n",
    "\n"
   ]
  },
  {
   "cell_type": "markdown",
   "metadata": {},
   "source": [
    "# <center>Python Functions<center/> \n",
    "\n",
    "https://pynative.com/python-function-arguments/#h-variable-length-arguments\n"
   ]
  },
  {
   "cell_type": "code",
   "execution_count": 18,
   "metadata": {},
   "outputs": [
    {
     "name": "stdout",
     "output_type": "stream",
     "text": [
      "enter the name:harsh\n",
      "enter the age:20\n",
      "name is harsh\n",
      "age is 20\n"
     ]
    }
   ],
   "source": [
    "\"\"\"Write a program to create a function that takes two arguments, name and age, and print their value.\"\"\"\n",
    "# Write code here\n",
    "\n",
    "def my_fun(n,a):\n",
    "    name=n\n",
    "    age=a\n",
    "    print(\"name is\",name)\n",
    "    print(\"age is\",age)\n",
    "    \n",
    "a=input(\"enter the name:\")\n",
    "b=int(input(\"enter the age:\"))\n",
    "my_fun(a,b)\n"
   ]
  },
  {
   "cell_type": "code",
   "execution_count": 21,
   "metadata": {},
   "outputs": [
    {
     "name": "stdout",
     "output_type": "stream",
     "text": [
      "args are  (1, 2, 3, 4, 7)\n"
     ]
    }
   ],
   "source": [
    "\"\"\"Create a function with variable length of arguments\n",
    "WAP to create function variableLengthArgsFunction() which should accept a variable length of arguments and print their value.\"\"\"\n",
    "# Write code here\n",
    "\n",
    "def variableLengthArgsFunction(*args):\n",
    "    print(\"args are \",args)\n",
    "    \n",
    "\n",
    "variableLengthArgsFunction(1,2,3,4,7)"
   ]
  },
  {
   "cell_type": "code",
   "execution_count": 22,
   "metadata": {},
   "outputs": [
    {
     "name": "stdout",
     "output_type": "stream",
     "text": [
      "calculate addition and subtraction (30, -10)\n"
     ]
    }
   ],
   "source": [
    "\"\"\"Return multiple values from a function\n",
    "WAP to create function calculate() such that it can accept two variables and calculate\n",
    "addition and subtraction. Also, it must return both addition and subtraction in a single return call.\n",
    "\"\"\"\n",
    "\n",
    "def calculate(a,b):\n",
    "    return a+b,a-b\n",
    "\n",
    "print(\"calculate addition and subtraction\",calculate(10,20))\n"
   ]
  },
  {
   "cell_type": "code",
   "execution_count": 25,
   "metadata": {},
   "outputs": [
    {
     "name": "stdout",
     "output_type": "stream",
     "text": [
      "The employee name harsh\n",
      "The salary is 9000\n"
     ]
    }
   ],
   "source": [
    "\"\"\"Create a function with a default argument\n",
    "Create a function using the following conditions.\n",
    "\n",
    "It should accept the employee’s name and salary and display both.\n",
    "If the salary is missing in the function call then assign default value 9000 to salary\"\"\"\n",
    "\n",
    "\n",
    "def emp(emp_name,salary=9000):\n",
    "    print(\"The employee name\",emp_name)\n",
    "    print(\"The salary is\",salary)\n",
    "    \n",
    "name=\"harsh\"\n",
    "emp(name)\n"
   ]
  },
  {
   "cell_type": "code",
   "execution_count": 1,
   "metadata": {},
   "outputs": [
    {
     "name": "stdout",
     "output_type": "stream",
     "text": [
      "enter the first number2\n",
      "enter the second number4\n",
      "11\n"
     ]
    }
   ],
   "source": [
    "\"\"\" Create an inner function\n",
    "Create an outer function that will accept two parameters, a and b\n",
    "Create an inner function inside an outer function that will calculate the addition of a and b\n",
    "At last, an outer function will add 5 into addition and return it\"\"\"\n",
    "\n",
    "def outer(a,b):\n",
    "    def inner(a,b):\n",
    "        return a+b\n",
    "    c=inner(a,b)\n",
    "    return c+5\n",
    "    \n",
    "x=int(input(\"enter the first number\"))\n",
    "y=int(input(\"enter the second number\"))\n",
    "print(outer(x,y))"
   ]
  },
  {
   "cell_type": "code",
   "execution_count": 5,
   "metadata": {},
   "outputs": [
    {
     "name": "stdout",
     "output_type": "stream",
     "text": [
      "The sum of numbers ranging between 0 and 10 is 55\n"
     ]
    }
   ],
   "source": [
    "\"\"\"recursive function\n",
    "create a recursive function to calculate the sum of numbers ranging between 0 and 10 (inclusive 0 and 10).\n",
    "\n",
    "A recursive function is a function that calls itself again and again.\"\"\"\n",
    "\n",
    "def sum(n):\n",
    "    if n<=1:\n",
    "        return n\n",
    "    return n+sum(n-1)\n",
    "   \n",
    "a=10\n",
    "print(\"The sum of numbers ranging between 0 and 10 is\",sum(a))"
   ]
  },
  {
   "cell_type": "code",
   "execution_count": 11,
   "metadata": {},
   "outputs": [
    {
     "name": "stdout",
     "output_type": "stream",
     "text": [
      "Name is harsh\n",
      "age is 20\n"
     ]
    }
   ],
   "source": [
    "\"\"\"Assign a different name to function and call it through the new name\n",
    "Create a function display(name, age). Assign a new name show(name, age) to it and call it using the new name.\"\"\"\n",
    "\n",
    "def display(name,age):\n",
    "    print(\"Name is\",name)\n",
    "    print(\"age is\",age)\n",
    "\n",
    "show=display\n",
    "\n",
    "show(\"harsh\",20)"
   ]
  },
  {
   "cell_type": "code",
   "execution_count": 22,
   "metadata": {},
   "outputs": [
    {
     "name": "stdout",
     "output_type": "stream",
     "text": [
      "the list is  [4, 6, 8, 10, 12, 14, 16, 18, 20, 22, 24, 26, 28, 30, 32, 34, 36, 38, 40, 42, 44, 46, 48]\n",
      "[4, 6, 8, 10, 12, 14, 16, 18, 20, 22, 24, 26, 28, 30, 32, 34, 36, 38, 40, 42, 44, 46, 48]\n"
     ]
    }
   ],
   "source": [
    "\"\"\"Generate a Python list of all the even numbers between 3 to 50\"\"\"\n",
    "list1=[]\n",
    "for i in range(4,50,2):\n",
    "    list1.append(i)\n",
    "    \n",
    "print(\"the list is \",list1)\n",
    "\n",
    "#or\n",
    "\n",
    "print(list(range(4, 50, 2)))"
   ]
  }
 ],
 "metadata": {
  "kernelspec": {
   "display_name": "Python 3 (ipykernel)",
   "language": "python",
   "name": "python3"
  },
  "language_info": {
   "codemirror_mode": {
    "name": "ipython",
    "version": 3
   },
   "file_extension": ".py",
   "mimetype": "text/x-python",
   "name": "python",
   "nbconvert_exporter": "python",
   "pygments_lexer": "ipython3",
   "version": "3.10.9"
  }
 },
 "nbformat": 4,
 "nbformat_minor": 2
}
