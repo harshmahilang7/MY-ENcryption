{
 "cells": [
  {
   "cell_type": "markdown",
   "id": "6ed26627",
   "metadata": {},
   "source": [
    "\n",
    "<center><h1>Python DataStructure</h1><center/>\n"
   ]
  },
  {
   "cell_type": "code",
   "execution_count": null,
   "id": "b2a9f88d",
   "metadata": {},
   "outputs": [],
   "source": [
    "\"\"\"What is Data Structure. Explain it with programming and industries aspect.\"\"\"\n",
    "\n",
    "\n",
    "\"\"\"\n",
    "a data structure in programming refers to the way data is organized and stored in a computer's memory or storage system.\n",
    "It provides a systematic approach to efficiently manage and manipulate data. Different data \n",
    "structures are designed to optimize various operations such as searching, sorting, inserting, and deleting data.\n",
    "\n",
    "Arrays: Arrays store a fixed-size sequence of elements of the same type. They offer fast random access to\n",
    "    elements using their index. Arrays are widely used for efficient data storage and retrieval.\n",
    "\n",
    "Linked Lists: Linked lists consist of nodes, where each node holds data and a reference to the next node. \n",
    "    Linked lists facilitate efficient insertion and deletion operations, but they have slower random access compared to arrays.\n",
    "\n",
    "Stacks: Stacks follow the Last-In-First-Out (LIFO) principle, allowing elements to be added and removed only\n",
    "    from one end (top). They are commonly used in programming to handle function calls, manage program memory, and\n",
    "    support undo/redo operations.\n",
    "\n",
    "Queues: Queues follow the First-In-First-Out (FIFO) principle, allowing elements to be added at one end (rear) \n",
    "    and removed from the other end (front). Queues are utilized in scheduling, task management, and breadth-first \n",
    "        search algorithms.\n",
    "\n",
    "Trees: Trees are hierarchical data structures with nodes connected by edges. Each node can have child nodes, \n",
    "    forming parent-child relationships. Trees are used in various applications, such as representing file systems, \n",
    "    organizing hierarchical data, and implementing search algorithms like binary search trees.\n",
    "\n",
    "From a programming aspect, data structures are essential for:\n",
    "\n",
    "    Efficiency: Choosing the appropriate data structure significantly impacts program efficiency and performance.\n",
    "    Algorithm Design: Many algorithms are based on specific data structures to solve complex problems effectively.\n",
    "\n",
    "in an industry context, data structures play a crucial role in numerous domains:\n",
    "    Database Systems: Data structures are fundamental in database systems, enabling efficient storage, \n",
    "    retrieval, and manipulation of large amounts of data.\n",
    "    Data Analysis and AI: Industries relying on data analysis and artificial intelligence leverage data\n",
    "    structures like arrays, matrices, and trees to organize and process extensive datasets efficiently.\n",
    "    Networking and Telecommunications: Graph data structures are used in networking and telecommunications \n",
    "    to represent complex networks of interconnected devices and facilitate efficient routing and communication."
   ]
  },
  {
   "cell_type": "code",
   "execution_count": 10,
   "id": "167fe734",
   "metadata": {},
   "outputs": [
    {
     "name": "stdout",
     "output_type": "stream",
     "text": [
      "over 2+ lists\n",
      "1 4\n",
      "2 5\n",
      "3 6\n",
      "over 3+ lists\n",
      "1 4 7\n",
      "2 5 8\n",
      "3 6 9\n"
     ]
    }
   ],
   "source": [
    "\"\"\"How to iterate over 2+ lists at the same time.Also write the code for 3+ lists\"\"\"\n",
    "import itertools\n",
    "print(\"over 2+ lists\")\n",
    "l1 = [1, 2, 3]\n",
    "l2 = ['4', '5', '6']\n",
    "for (a,b) in zip (l1,l2):\n",
    "    print(a,b)\n",
    "    \n",
    "print(\"over 3+ lists\")\n",
    "l3 = [1, 2, 3]\n",
    "l4 = ['4', '5', '6']\n",
    "l5 = [7, 8, 9]\n",
    "for (c,d,e) in zip(l3, l4, l5):\n",
    "    print (c,d,e)"
   ]
  },
  {
   "cell_type": "code",
   "execution_count": 5,
   "id": "618919ec",
   "metadata": {},
   "outputs": [
    {
     "name": "stdout",
     "output_type": "stream",
     "text": [
      "True\n"
     ]
    }
   ],
   "source": [
    "\"\"\"\"Write a Python function that takes a list and an element as input and returns True if the element is present \n",
    "in the list, and False otherwise. Implement the function using a recursive approach without using built-in functions like in or index\"\"\"\n",
    "\n",
    "def chek(i):\n",
    "    l=[1,2,3,4,5]\n",
    "    n=3\n",
    "    if i<len(l):\n",
    "        if l[i]==n:\n",
    "            return True\n",
    "        else:\n",
    "            return chek(i+1)\n",
    "    else:\n",
    "        return False\n",
    "print(\"the element is present in the list\",chek(0))\n",
    "        \n",
    "        "
   ]
  },
  {
   "cell_type": "code",
   "execution_count": 2,
   "id": "1f08bb3b",
   "metadata": {},
   "outputs": [
    {
     "name": "stdout",
     "output_type": "stream",
     "text": [
      "enter the length of list5\n",
      "enter the number1\n",
      "enter the number2\n",
      "enter the number3\n",
      "enter the number4\n",
      "enter the number5\n",
      "lists store values or pointers [(1, 1540653449456), (2, 1540653449488), (3, 1540653449520), (4, 1540653449552), (5, 1540653449584)]\n"
     ]
    }
   ],
   "source": [
    "\"\"\" python lists store values or pointers?\"\"\"\n",
    "\n",
    "lis1=[]\n",
    "n=int(input(\"enter the length of list\"))\n",
    "for i in range (n):\n",
    "    e=int(input('enter the number'))\n",
    "    lis1.append((e,id(e)))\n",
    "print(\"lists store values or pointers\",lis1)\n"
   ]
  },
  {
   "cell_type": "code",
   "execution_count": 68,
   "id": "3f1405c4",
   "metadata": {},
   "outputs": [
    {
     "name": "stdout",
     "output_type": "stream",
     "text": [
      "2\n"
     ]
    }
   ],
   "source": [
    "\"\"\"\"Implement a Python function that takes a list and an element as input and returns the index of the first\n",
    "occurrence of the element in the list. If the element is not found, the function should return -1. \n",
    "You should implement the function using a binary search algorithm without using built-in functions like \"index\" or \n",
    "\"find\".\"\"\"\n",
    "\n",
    "def binary_search(list, ele):\n",
    "    left = 0\n",
    "    right = len(list) - 1\n",
    "    result = -1\n",
    "\n",
    "    while left <= right:\n",
    "        mid = (left + right) // 2\n",
    "        if list[mid] == ele:\n",
    "            result = mid\n",
    "            right = mid - 1\n",
    "        elif list[mid] < ele:\n",
    "            left = mid + 1\n",
    "        else:\n",
    "            right = mid - 1\n",
    "    return result\n",
    "\n",
    "my_list = [1, 2, 3, 3, 4, 5]\n",
    "search_ele = 3\n",
    "index = binary_search(my_list, search_ele)\n",
    "print(index)\n"
   ]
  },
  {
   "cell_type": "code",
   "execution_count": 22,
   "id": "001c4821",
   "metadata": {},
   "outputs": [
    {
     "name": "stdout",
     "output_type": "stream",
     "text": [
      "enter the length of list5\n",
      "enter the number6\n",
      "enter the number7\n",
      "enter the number8\n",
      "enter the number9\n",
      "enter the number0\n",
      "before clear list [6, 7, 8, 9, 0]\n",
      "after clear list []\n"
     ]
    }
   ],
   "source": [
    "\"\"\"\"Write a Python function that takes a list as input and removes all elements from the list in-place without \n",
    "using built-in functions like \"clear\" or \"remove\". Implement the function using a recursive approach to ensure \n",
    "all elements are removed efficiently \"\"\"\n",
    "\n",
    "def list_clear(l1):\n",
    "    l1=[]\n",
    "    return l1\n",
    "    \n",
    "l1=[]\n",
    "n=int(input(\"enter the length of list\"))\n",
    "for i in range (n):\n",
    "    e=int(input('enter the number'))\n",
    "    l1.append(e)\n",
    "print(\"before clear list\",l1)\n",
    "print(\"after clear list\",list_clear(l1))"
   ]
  },
  {
   "cell_type": "code",
   "execution_count": 23,
   "id": "daba3577",
   "metadata": {},
   "outputs": [
    {
     "name": "stdout",
     "output_type": "stream",
     "text": [
      "{1: 'one', 2: 'two', 3: 'there', 4: 'four', 5: 'five'}\n"
     ]
    }
   ],
   "source": [
    "\"\"\"\"Write a Python function that takes a list of tuples as input and returns a dictionary where the keys are\n",
    "extracted from the first element of each tuple and the values are extracted from the second element of each tuple.\n",
    "Implement the function using a combination of list comprehension and the zip function.\"\"\"\n",
    "\n",
    "def disn(key,values):\n",
    "    my_Dict = { k:v for (k,v) in zip(keys, values)} \n",
    "    return my_Dict\n",
    "\n",
    "keys=(1,2,3,4,5)\n",
    "values=(\"one\",\"two\",\"there\",\"four\",\"five\")\n",
    "\n",
    "print(disn(keys,values))\n"
   ]
  },
  {
   "cell_type": "code",
   "execution_count": 25,
   "id": "6d4d2378",
   "metadata": {},
   "outputs": [
    {
     "name": "stdout",
     "output_type": "stream",
     "text": [
      "{1: 'one', 3: 'three', 6: 'six', 7: 'seven', 8: 'eight'}\n"
     ]
    }
   ],
   "source": [
    "\"\"\"\"Write a Python function that takes a dictionary and a list of keys as input and returns a new dictionary \n",
    "without the specified keys. Implement the function using dictionary comprehension to create a new dictionary \n",
    "without modifying the original dictionary.\"\"\"\n",
    "\n",
    "def remove_keys(dictionary, keys):\n",
    "    return {k: v for k, v in dictionary.items() if k not in keys}\n",
    "my_dic={1:\"one\",2:\"two\",3:\"three\",4:\"four\",5:\"five\",6:\"six\",7:\"seven\",8:\"eight\"}\n",
    "key=[2,4,5]\n",
    "new_dic=remove_keys(my_dic, key)\n",
    "print(new_dic)"
   ]
  },
  {
   "cell_type": "code",
   "execution_count": 93,
   "id": "e69bf0b3",
   "metadata": {},
   "outputs": [
    {
     "name": "stdout",
     "output_type": "stream",
     "text": [
      "before  {1: 'one', 2: 'two', 3: {31: 'ty', 32: 'uy'}, 4: 'four', 5: 'five', 6: 'six', 7: 'seven', 8: 'eight'}\n",
      "enter:ko\n",
      "enter:kl\n",
      "after {1: 'one', 2: 'two', 3: {31: 'ko', 32: 'kl'}, 4: 'four', 5: 'five', 6: 'six', 7: 'seven', 8: 'eight'}\n"
     ]
    }
   ],
   "source": [
    "\"\"\"Write a python program to Change value of a key in a nested dictionary use any tpe of dictionary. \n",
    "all are acceptable\"\"\"\n",
    "\n",
    "def chang(my_dic):\n",
    "    new_value1=input(\"enter:\")\n",
    "    new_value2=input(\"enter:\")\n",
    "    my_dic[3][31]=new_value1\n",
    "    my_dic[3][32]=new_value2\n",
    "    print(\"after\",my_dic)\n",
    "\n",
    "\n",
    "my_dic={1:\"one\",2:\"two\",3:{31:\"ty\",32:\"uy\"},4:\"four\",5:\"five\",6:\"six\",7:\"seven\",8:\"eight\"}\n",
    "print(\"before \",my_dic)\n",
    "chang(my_dic)"
   ]
  },
  {
   "cell_type": "code",
   "execution_count": 71,
   "id": "ebfa140e",
   "metadata": {},
   "outputs": [
    {
     "name": "stdout",
     "output_type": "stream",
     "text": [
      "Fibonacci number in tuples (0, 1, 1, 2, 3, 5, 8, 13, 21, 34)\n"
     ]
    }
   ],
   "source": [
    "\"\"\"\"Write a program that calculates the Fibonacci series up to a given n and stores the result in a tuple. \n",
    "The program should define a function fibonacci_series that takes an integer n as input and returns a tuple \n",
    "containing the Fibonacci numbers up to the nth term. The Fibonacci series starts with 0 and 1, and each subsequent\n",
    "number is the sum of the two preceding numbers. The program should print the resulting tuple.\"\"\"\n",
    "\n",
    "def fibonacci_series(n):\n",
    "    if n == 0:\n",
    "        return ()\n",
    "    elif n == 1:\n",
    "        return (0)\n",
    "    elif n == 2:\n",
    "        return (0, 1)\n",
    "    else:\n",
    "        fib_seq = [0, 1]\n",
    "        for i in range(2, n):\n",
    "            fib_seq.append(fib_seq[i-1] + fib_seq[i-2])\n",
    "        return tuple(fib_seq)\n",
    "\n",
    "n = 10\n",
    "result = fibonacci_series(n)\n",
    "print(\"Fibonacci number in tuples\",result)\n",
    "\n"
   ]
  },
  {
   "cell_type": "code",
   "execution_count": 87,
   "id": "9ce4a619",
   "metadata": {},
   "outputs": [
    {
     "name": "stdout",
     "output_type": "stream",
     "text": [
      "Size of the stack: 11\n",
      "['a', 'b', 'c', 'd', 'e', 'f', 'g', 'h', 'i', 'j', 'k']\n",
      "Popped the item: k\n",
      "Size of the stack after poped: 10\n"
     ]
    }
   ],
   "source": [
    "\"\"\"Write a program to implements the stack in python using class and objects\"\"\"\n",
    "\n",
    "class Stack:\n",
    "    def __init__(self):\n",
    "        self.items = []\n",
    "\n",
    "    def is_empty(self):\n",
    "        return len(self.items) == 0\n",
    "\n",
    "    def push(self, i):\n",
    "        self.items.append(i)\n",
    "\n",
    "    def pop(self):\n",
    "        if self.is_empty():\n",
    "            print(\"Stack is empty.\")\n",
    "        return self.items.pop()\n",
    "\n",
    "    def size(self):\n",
    "        return len(self.items)\n",
    "    \n",
    "    def dis(self):\n",
    "        print(self.items)\n",
    "\n",
    "stack = Stack()\n",
    "\n",
    "stack.push(\"a\")\n",
    "stack.push(\"b\")\n",
    "stack.push(\"c\")\n",
    "stack.push(\"d\")\n",
    "stack.push(\"e\")\n",
    "stack.push(\"f\")\n",
    "stack.push(\"g\")\n",
    "stack.push(\"h\")\n",
    "stack.push(\"i\")\n",
    "stack.push(\"j\")\n",
    "stack.push(\"k\")\n",
    "\n",
    "print(\"Size of the stack:\", stack.size())\n",
    "stack.dis()\n",
    "i = stack.pop()\n",
    "print(\"Popped the item:\", i)\n",
    "\n",
    "print(\"Size of the stack after poped:\", stack.size())"
   ]
  },
  {
   "cell_type": "code",
   "execution_count": 90,
   "id": "7b480463",
   "metadata": {},
   "outputs": [
    {
     "name": "stdout",
     "output_type": "stream",
     "text": [
      "Size of the queue: 12\n",
      "['a', 'b', 'c', 'd', 'e', 'f', 'g', 'h', 'i', 'j', 'k', 'l']\n",
      "Dequeued item: a\n",
      "Size of the queue: 11\n"
     ]
    }
   ],
   "source": [
    "\"\"\"Write a program to implements the queue in python using class and objects\"\"\"\n",
    "class Queue:\n",
    "    def __init__(self):\n",
    "        self.items = []\n",
    "\n",
    "    def is_empty(self):\n",
    "        return len(self.items) == 0\n",
    "\n",
    "    def enqueue(self, item):\n",
    "        self.items.append(item)\n",
    "\n",
    "    def dequeue(self):\n",
    "        if self.is_empty():\n",
    "            print(\"Queue is empty.\")\n",
    "        return self.items.pop(0)\n",
    "\n",
    "    def size(self):\n",
    "        return len(self.items)\n",
    "        \n",
    "    def dis(self):\n",
    "        print(self.items)\n",
    "\n",
    "queue = Queue()\n",
    "queue.enqueue(\"a\")\n",
    "queue.enqueue(\"b\")\n",
    "queue.enqueue(\"c\")\n",
    "queue.enqueue(\"d\")\n",
    "queue.enqueue(\"e\")\n",
    "queue.enqueue(\"f\")\n",
    "queue.enqueue(\"g\")\n",
    "queue.enqueue(\"h\")\n",
    "queue.enqueue(\"i\")\n",
    "queue.enqueue(\"j\")\n",
    "queue.enqueue(\"k\")\n",
    "queue.enqueue(\"l\")\n",
    "\n",
    "\n",
    "\n",
    "print(\"Size of the queue:\", queue.size())\n",
    "queue.dis()\n",
    "item = queue.dequeue()\n",
    "print(\"Dequeued item:\", item)\n",
    "\n",
    "print(\"Size of the queue:\", queue.size())"
   ]
  }
 ],
 "metadata": {
  "kernelspec": {
   "display_name": "Python 3 (ipykernel)",
   "language": "python",
   "name": "python3"
  },
  "language_info": {
   "codemirror_mode": {
    "name": "ipython",
    "version": 3
   },
   "file_extension": ".py",
   "mimetype": "text/x-python",
   "name": "python",
   "nbconvert_exporter": "python",
   "pygments_lexer": "ipython3",
   "version": "3.10.9"
  }
 },
 "nbformat": 4,
 "nbformat_minor": 5
}
