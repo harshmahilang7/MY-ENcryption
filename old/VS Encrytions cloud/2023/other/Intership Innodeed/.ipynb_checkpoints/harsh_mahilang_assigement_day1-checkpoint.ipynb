{
 "cells": [
  {
   "cell_type": "markdown",
   "metadata": {},
   "source": [
    "# <center>Python Basics - Assignment<center/> \n",
    "<img height=\"60\" width=\"120\" src=\"https://www.python.org/static/img/python-logo-large.png?1414305901\"></img>"
   ]
  },
  {
   "cell_type": "markdown",
   "metadata": {},
   "source": [
    "# Table of contents\n",
    "<br/>\n",
    "<a href = \"#6.-Variables\"> Variables</a><br/>\n",
    "<a href = \"#7.-Data-Types\"> Data Types</a><br/>\n",
    "<a href = \"#8.-Conversion-between-Datatypes\"> Conversion between Datatypes</a>"
   ]
  },
  {
   "cell_type": "markdown",
   "metadata": {},
   "source": [
    "#  Variables"
   ]
  },
  {
   "cell_type": "markdown",
   "metadata": {},
   "source": [
    "A variable is an alias given to a location in memory that is used to store some data (value).\n",
    "\n",
    "Each data point stored in the memory is given unique name to differentiate between different memory locations (and thus data points). <br/><b>The rules for writing a variable name is same as the rules for writing identifiers in Python.</b>\n",
    "\n",
    "We don't need to declare a variable before using it. In Python, we simply assign a value to a variable and it will exist. We don't even have to declare the <b>type</b> of the variable. This is handled internally according to the type of value we assign to the variable.\n",
    "<br/>\n",
    "<br/>"
   ]
  },
  {
   "cell_type": "markdown",
   "metadata": {},
   "source": [
    "### Variable assignements\n",
    "We use the assignment operator (=) to assign values to a variable"
   ]
  },
  {
   "cell_type": "code",
   "execution_count": 2,
   "metadata": {},
   "outputs": [
    {
     "name": "stdout",
     "output_type": "stream",
     "text": [
      "variable with int value 10\n",
      "variable with floating value 12.3\n",
      "variable with string value dastan\n"
     ]
    }
   ],
   "source": [
    "# initialize a variable with int value\n",
    "\n",
    "# initialize a variable with floating point value\n",
    "\n",
    "# initialize a variable with string value\n",
    "\n",
    "# Print values of all the variables\n",
    "\n",
    "a=10\n",
    "b=12.3\n",
    "c=\"dastan\"\n",
    "print(\"variable with int value\",a)\n",
    "print(\"variable with floating value\",b)\n",
    "print(\"variable with string value\",c)"
   ]
  },
  {
   "cell_type": "markdown",
   "metadata": {},
   "source": [
    "### Multiple assignements\n",
    "Use comma to seperate the variables and their corresponding values"
   ]
  },
  {
   "cell_type": "code",
   "execution_count": 80,
   "metadata": {},
   "outputs": [
    {
     "name": "stdout",
     "output_type": "stream",
     "text": [
      "10\n",
      "12.3\n",
      "dastan\n"
     ]
    }
   ],
   "source": [
    "# Assign multiple vairables in a single line int, double and string\n",
    "\n",
    "# print the values assigned to variables\n",
    "\n",
    "a,b,c=11,12.3,\"dastan\"\n",
    "print(a)\n",
    "print(b)\n",
    "print(c)"
   ]
  },
  {
   "cell_type": "code",
   "execution_count": 81,
   "metadata": {},
   "outputs": [
    {
     "name": "stdout",
     "output_type": "stream",
     "text": [
      "10\n",
      "10\n",
      "10\n"
     ]
    }
   ],
   "source": [
    "# initialize multiple variables with same value use 1 assignment\n",
    "\n",
    "# print all the variables assigned\n",
    "\n",
    "a=b=c=10\n",
    "print(a)\n",
    "print(b)\n",
    "print(c)\n"
   ]
  },
  {
   "cell_type": "markdown",
   "metadata": {
    "collapsed": true
   },
   "source": [
    "### Storage Locations"
   ]
  },
  {
   "cell_type": "code",
   "execution_count": 82,
   "metadata": {},
   "outputs": [
    {
     "name": "stdout",
     "output_type": "stream",
     "text": [
      "2454259892752\n"
     ]
    }
   ],
   "source": [
    "# Print address of a variable in memory of an integer variable\n",
    "# This can be done by using id keyword\n",
    "# id(variable)\n",
    "\n",
    "\n",
    "a=10\n",
    "print(id(a))"
   ]
  },
  {
   "cell_type": "code",
   "execution_count": 83,
   "metadata": {},
   "outputs": [
    {
     "name": "stdout",
     "output_type": "stream",
     "text": [
      "2454367829488\n"
     ]
    }
   ],
   "source": [
    "# Print address of a variable in memory of an decimal variable\n",
    "# This can be done by using id keyword\n",
    "# id(variable)\n",
    "\n",
    "a=13.4\n",
    "print(id(a))\n"
   ]
  },
  {
   "cell_type": "markdown",
   "metadata": {},
   "source": [
    "<b>interger1</b> and <b>interger2</b> points to same memory location in the below example"
   ]
  },
  {
   "cell_type": "code",
   "execution_count": 84,
   "metadata": {},
   "outputs": [
    {
     "name": "stdout",
     "output_type": "stream",
     "text": [
      "2454259892752\n",
      "2454259892752\n"
     ]
    }
   ],
   "source": [
    "a = 10\n",
    "b = 10\n",
    "\n",
    "print(id(a))   \n",
    "print(id(b))   "
   ]
  },
  {
   "cell_type": "markdown",
   "metadata": {
    "collapsed": true
   },
   "source": [
    "# 7. Data Types"
   ]
  },
  {
   "cell_type": "markdown",
   "metadata": {},
   "source": [
    "Every value in Python has a datatype. Since everything is an object in Python programming, data types are actually classes and variables are instance (object) of these classes.\n",
    "<br/><br/>\n",
    "Below are few of the commonly used data types<br/>"
   ]
  },
  {
   "cell_type": "markdown",
   "metadata": {},
   "source": [
    "### Python Numbers"
   ]
  },
  {
   "cell_type": "markdown",
   "metadata": {},
   "source": [
    "<b>Integers, floating point numbers and complex numbers</b>\n",
    "falls under Python numbers category. They are defined as int, float and complex class in Python.\n",
    "\n",
    "We can use the <b>type()</b> function to know which class a variable or a value belongs to <br/> and the <b>isinstance()</b> function to check if an object belongs to a particular class."
   ]
  },
  {
   "cell_type": "code",
   "execution_count": 85,
   "metadata": {},
   "outputs": [
    {
     "name": "stdout",
     "output_type": "stream",
     "text": [
      "10  is of type <class 'int'>\n"
     ]
    }
   ],
   "source": [
    "# integer data type\n",
    "a = 10                            \n",
    "print(a, \" is of type\", type(a))"
   ]
  },
  {
   "cell_type": "code",
   "execution_count": 86,
   "metadata": {},
   "outputs": [
    {
     "name": "stdout",
     "output_type": "stream",
     "text": [
      "12.5  is of type <class 'float'>\n"
     ]
    }
   ],
   "source": [
    "# float data type\n",
    "b = 12.5                           \n",
    "print(b, \" is of type\", type(b))"
   ]
  },
  {
   "cell_type": "code",
   "execution_count": 87,
   "metadata": {},
   "outputs": [
    {
     "name": "stdout",
     "output_type": "stream",
     "text": [
      "(99+14j)  is complex number? True\n"
     ]
    }
   ],
   "source": [
    "#data type is changed to complex number\n",
    "c = 99 + 14j                        \n",
    "print(c, \" is complex number?\", isinstance(c, complex))"
   ]
  },
  {
   "cell_type": "markdown",
   "metadata": {},
   "source": [
    "### Boolean"
   ]
  },
  {
   "cell_type": "markdown",
   "metadata": {},
   "source": [
    "Boolean represents True or False values"
   ]
  },
  {
   "cell_type": "code",
   "execution_count": 88,
   "metadata": {},
   "outputs": [
    {
     "name": "stdout",
     "output_type": "stream",
     "text": [
      "True  is of type <class 'bool'>\n"
     ]
    }
   ],
   "source": [
    "# initialize a boolean variable\n",
    "# valitate it by printing the type of a variable\n",
    "\n",
    "a=10\n",
    "b=9\n",
    "\n",
    "print(a>b, \" is of type\", type(a>b))\n"
   ]
  },
  {
   "cell_type": "markdown",
   "metadata": {},
   "source": [
    "### Python Strings"
   ]
  },
  {
   "cell_type": "markdown",
   "metadata": {},
   "source": [
    "String is sequence of Unicode characters. We can use single quotes or double quotes to represent strings. <br/>\n",
    "Multi-line strings can be denoted using triple quotes(single/double), <b>''' or \"\"\". </b><br/>\n",
    "\n",
    "A string in Python consists of a series or <u>sequence of characters</u> - <b>letters, numbers, and special characters.</b>\n",
    "\n",
    "Strings can be indexed - often synonymously called subscripted as well.\n",
    "\n",
    "The first character of a string has the index 0."
   ]
  },
  {
   "cell_type": "code",
   "execution_count": 89,
   "metadata": {},
   "outputs": [
    {
     "name": "stdout",
     "output_type": "stream",
     "text": [
      "qwertyuiopasdsdf\n",
      "q\n"
     ]
    }
   ],
   "source": [
    "# Initialize a string variable with a value of length greater then 15 chars\n",
    "# print the value of string variable \n",
    "# print the first character of string variable\n",
    "\n",
    "a=\"qwertyuiopasdsdf\"\n",
    "print(a)\n",
    "print(a[0])\n",
    "\n"
   ]
  },
  {
   "cell_type": "code",
   "execution_count": 90,
   "metadata": {},
   "outputs": [
    {
     "name": "stdout",
     "output_type": "stream",
     "text": [
      "qwertyuiopasdsdf\n",
      "ertyui\n",
      "qwertyui\n",
      "yuiopasdsdf\n"
     ]
    }
   ],
   "source": [
    "# Slicing of String variable\n",
    "# slice and print the string variable from 2th index to 7th index\n",
    "# slice and print the string variable from 0th index to 7th index\n",
    "# slice and print the string variable from 5th index to end\n",
    "\n",
    "a=\"qwertyuiopasdsdf\"\n",
    "print(a[::])\n",
    "print(a[2:8])\n",
    "print(a[:8])\n",
    "print(a[5:])\n"
   ]
  },
  {
   "cell_type": "markdown",
   "metadata": {},
   "source": [
    "### Python List"
   ]
  },
  {
   "cell_type": "markdown",
   "metadata": {},
   "source": [
    "List is an <u>ordered sequence</u> of items. It is one of the most used datatype in Python and is very flexible. \n",
    "\n",
    "All the items in a list do not need to be of the same type.\n",
    "\n",
    "Declaring a list is pretty straight forward. Items separated by commas are enclosed within square brackets <b>'[ ]'</b>."
   ]
  },
  {
   "cell_type": "code",
   "execution_count": 1,
   "metadata": {},
   "outputs": [
    {
     "name": "stdout",
     "output_type": "stream",
     "text": [
      "list contain int [1, 2, 3, 4]\n",
      "list contain float [12.5, 12.6, 12.7, 12.8]\n",
      "list contain string ['dastan', 'harsh', 'ragini']\n"
     ]
    }
   ],
   "source": [
    "# initialize a variable to list containing various different datatypes (int, float, string etc)\n",
    "# print the list variable\n",
    "\n",
    "a=[1,2,3,4]\n",
    "b=[12.5,12.6,12.7,12.8]\n",
    "c=[\"dastan\",\"harsh\",\"ragini\"]\n",
    "print(\"list contain int\",a)\n",
    "print(\"list contain float\",b)\n",
    "print(\"list contain string\",c)\n"
   ]
  },
  {
   "cell_type": "code",
   "execution_count": 92,
   "metadata": {},
   "outputs": [
    {
     "name": "stdout",
     "output_type": "stream",
     "text": [
      "3\n"
     ]
    }
   ],
   "source": [
    "# print the 3rd element of the list\n",
    "\n",
    "a=[1,2,3,4]\n",
    "print(a[2])"
   ]
  },
  {
   "cell_type": "markdown",
   "metadata": {},
   "source": [
    "Lists are mutable, which means, value of elements of a list can be changed."
   ]
  },
  {
   "cell_type": "code",
   "execution_count": 93,
   "metadata": {},
   "outputs": [
    {
     "name": "stdout",
     "output_type": "stream",
     "text": [
      "[1, 8, 3, 4]\n",
      "[12.5, 11.6, 12.7, 12.8]\n",
      "['dastan', 'mg', 'ragini']\n"
     ]
    }
   ],
   "source": [
    "# change the value of 2nd element of the list (try to assign a different datatype)\n",
    "# print the list variable\n",
    "\n",
    "a=[1,2,3,4]\n",
    "b=[12.5,12.6,12.7,12.8]\n",
    "c=[\"dastan\",\"harsh\",\"ragini\"]\n",
    "a[1]=8\n",
    "b[1]=11.6\n",
    "c[1]=\"mg\"\n",
    "print(a)\n",
    "print(b)\n",
    "print(c)\n"
   ]
  },
  {
   "cell_type": "code",
   "execution_count": 94,
   "metadata": {},
   "outputs": [
    {
     "name": "stdout",
     "output_type": "stream",
     "text": [
      "[1, 2, 4]\n"
     ]
    }
   ],
   "source": [
    "# remove the item by value\n",
    "# print the list\n",
    "\n",
    "a=[1,2,3,4]\n",
    "a.remove(3)\n",
    "print(a)\n"
   ]
  },
  {
   "cell_type": "code",
   "execution_count": 95,
   "metadata": {},
   "outputs": [
    {
     "name": "stdout",
     "output_type": "stream",
     "text": [
      "[1, 2, 4]\n",
      "[1, 2, 4]\n"
     ]
    }
   ],
   "source": [
    "# remove the item from list by index\n",
    "# print the list\n",
    "\n",
    "a=[1,2,3,4]\n",
    "b=a[:2]+a[3:]\n",
    "print(b)\n",
    "\n",
    "#or\n",
    "\n",
    "a=[1,2,3,4]\n",
    "a.pop(2)\n",
    "print(a)\n"
   ]
  },
  {
   "cell_type": "code",
   "execution_count": 96,
   "metadata": {},
   "outputs": [
    {
     "name": "stdout",
     "output_type": "stream",
     "text": [
      "[1, 2, 3, 4, 5]\n"
     ]
    }
   ],
   "source": [
    "# add item to list and print the list with added values\n",
    "\n",
    "a=[1,2,3,4]\n",
    "a.append(5)\n",
    "print(a)\n"
   ]
  },
  {
   "cell_type": "markdown",
   "metadata": {},
   "source": [
    "### Python Tuple"
   ]
  },
  {
   "cell_type": "markdown",
   "metadata": {},
   "source": [
    "Tuple is an <u>ordered sequence</u> of items same as list. <br/>\n",
    "\n",
    "Tuples are used to write-protect data and are usually faster than list as it cannot change dynamically.\n",
    "\n",
    "It is defined within parentheses <b>()</b> where items are separated by commas."
   ]
  },
  {
   "cell_type": "code",
   "execution_count": 97,
   "metadata": {},
   "outputs": [
    {
     "name": "stdout",
     "output_type": "stream",
     "text": [
      "(10, 20.1, 'dastan')\n"
     ]
    }
   ],
   "source": [
    "# define a tuple below\n",
    "a=(10,20.1,\"dastan\")\n",
    "print(a)"
   ]
  },
  {
   "cell_type": "code",
   "execution_count": 128,
   "metadata": {},
   "outputs": [
    {
     "name": "stdout",
     "output_type": "stream",
     "text": [
      "0\n"
     ]
    }
   ],
   "source": [
    "# print the specific index of tuple\n",
    "\n",
    "a=(10,20.1,\"dastan\")\n",
    "print(a.index(10))"
   ]
  },
  {
   "cell_type": "code",
   "execution_count": 131,
   "metadata": {},
   "outputs": [
    {
     "name": "stdout",
     "output_type": "stream",
     "text": [
      "(10, 20.1, 'harsh')\n"
     ]
    }
   ],
   "source": [
    "# change the value of second index of tuple to different value\n",
    "\n",
    "a=(10,20.1,\"dastan\")\n",
    "y = list(a)\n",
    "y[2] = \"harsh\"\n",
    "a = tuple(y)\n",
    "print(a)"
   ]
  },
  {
   "cell_type": "markdown",
   "metadata": {},
   "source": [
    "### Python Set"
   ]
  },
  {
   "cell_type": "markdown",
   "metadata": {},
   "source": [
    "Set is an <u>unordered collection</u> of unique items. <br/>\n",
    "Set is defined by values separated by comma inside curly braces <b>{ }</b>. <br/>"
   ]
  },
  {
   "cell_type": "code",
   "execution_count": 132,
   "metadata": {},
   "outputs": [
    {
     "name": "stdout",
     "output_type": "stream",
     "text": [
      "(1, 2, 3, 4, 5)\n"
     ]
    }
   ],
   "source": [
    "# initialize a set to a variable\n",
    "# print set variable\n",
    "\n",
    "a={1,2,3,4,5}\n",
    "print(a)\n"
   ]
  },
  {
   "cell_type": "code",
   "execution_count": 134,
   "metadata": {},
   "outputs": [
    {
     "name": "stdout",
     "output_type": "stream",
     "text": [
      "{1, 2, 3, 4, 5}\n"
     ]
    }
   ],
   "source": [
    "# try adding a duplicate value to the above set\n",
    "# print the value of set\n",
    "\n",
    "a={1,2,3,4,5,5}\n",
    "print(a)\n"
   ]
  },
  {
   "cell_type": "code",
   "execution_count": 135,
   "metadata": {},
   "outputs": [
    {
     "name": "stdout",
     "output_type": "stream",
     "text": [
      "<class 'set'>\n"
     ]
    }
   ],
   "source": [
    "# print the type of set variable\n",
    "a={1,2,3,4,5}\n",
    "print(type(a))\n"
   ]
  },
  {
   "cell_type": "code",
   "execution_count": 140,
   "metadata": {},
   "outputs": [
    {
     "name": "stdout",
     "output_type": "stream",
     "text": [
      "1\n"
     ]
    }
   ],
   "source": [
    "# print 1st element of set and observe the output\n",
    "\n",
    "a={1,2,3,4,5,5}\n",
    "x = next(iter(a))\n",
    "print(x)\n"
   ]
  },
  {
   "cell_type": "markdown",
   "metadata": {},
   "source": [
    "### Python Dictionary"
   ]
  },
  {
   "cell_type": "markdown",
   "metadata": {},
   "source": [
    "<b>Dictionary</b> is an <u>unordered collection</u> of <b>key-value</b> pairs.\n",
    "\n",
    "It is generally used when we have a huge amount of data.<br/> \n",
    "Dictionaries are optimized for retrieving data. <br/>\n",
    "We must know the <b>key</b> to retrieve the <b>value</b>.\n",
    "\n",
    "In Python, dictionaries are defined within curly braces <b>{}</b> <br/>\n",
    "with each item being a pair in the form <b>key:value</b>. <br/>\n",
    "<b>Key and value</b> can be of <u>any type</u>."
   ]
  },
  {
   "cell_type": "code",
   "execution_count": 141,
   "metadata": {},
   "outputs": [
    {
     "name": "stdout",
     "output_type": "stream",
     "text": [
      "{1: 'one', 2: 'two', 3: 'three'}\n"
     ]
    }
   ],
   "source": [
    "# myDictionary = {'key1': \"value1\", 'key2': \"value2\", 'key3': \"value3\",}\n",
    "# print the value of key2 of myDictionary below\n",
    "\n",
    "dis={1:\"one\",2:\"two\",3:\"three\"}\n",
    "print(dis)"
   ]
  },
  {
   "cell_type": "markdown",
   "metadata": {},
   "source": [
    "<b>Update</b> a value in the dictionary"
   ]
  },
  {
   "cell_type": "code",
   "execution_count": 145,
   "metadata": {},
   "outputs": [
    {
     "name": "stdout",
     "output_type": "stream",
     "text": [
      "{'key1': 'value1', 'key2': 'value2', 'key3': 'value4'}\n"
     ]
    }
   ],
   "source": [
    "# update the value of key3 to value4\n",
    "# print the updated dictionary\n",
    "\n",
    "myDictionary = {'key1': \"value1\", 'key2': \"value2\", 'key3': \"value3\"}\n",
    "myDictionary.update({'key3': \"value4\"})\n",
    "print(myDictionary)"
   ]
  },
  {
   "cell_type": "markdown",
   "metadata": {},
   "source": [
    "<b>Add</b> a new key & value"
   ]
  },
  {
   "cell_type": "code",
   "execution_count": 149,
   "metadata": {},
   "outputs": [
    {
     "name": "stdout",
     "output_type": "stream",
     "text": [
      "{'key1': 'value1', 'key2': 'value2', 'key3': 'value3', 'key4': 'value4'}\n"
     ]
    }
   ],
   "source": [
    "# add a new key to dictionary with value \"value_new\"\n",
    "# print the dictionary\n",
    "\n",
    "myDictionary = {'key1': \"value1\", 'key2': \"value2\", 'key3': \"value3\"}\n",
    "\n",
    "myDictionary[\"key4\"]=\"value4\"\n",
    "\n",
    "print(myDictionary)"
   ]
  },
  {
   "cell_type": "markdown",
   "metadata": {},
   "source": [
    "<b>Delete</b> Dictionary Elements"
   ]
  },
  {
   "cell_type": "code",
   "execution_count": 150,
   "metadata": {},
   "outputs": [
    {
     "name": "stdout",
     "output_type": "stream",
     "text": [
      "{'key1': 'value1', 'key3': 'value3'}\n"
     ]
    }
   ],
   "source": [
    "# delete a key from dictionary\n",
    "# print the dictionary after updation\n",
    "\n",
    "myDictionary = {'key1': \"value1\", 'key2': \"value2\", 'key3': \"value3\"}\n",
    "myDictionary.pop(\"key2\")\n",
    "print(myDictionary)\n"
   ]
  },
  {
   "cell_type": "markdown",
   "metadata": {
    "collapsed": true
   },
   "source": [
    "# Conversion between Datatypes"
   ]
  },
  {
   "cell_type": "markdown",
   "metadata": {},
   "source": [
    "To convert between different data types use different type conversion functions like <b>int(), float(), str()</b> etc."
   ]
  },
  {
   "cell_type": "code",
   "execution_count": 152,
   "metadata": {},
   "outputs": [
    {
     "name": "stdout",
     "output_type": "stream",
     "text": [
      "10\n"
     ]
    }
   ],
   "source": [
    "# initialize a variable with a decimal value\n",
    "# convert the variable to int (typecasting)\n",
    "\n",
    "a=10.3\n",
    "b=int(a)\n",
    "print(b)\n"
   ]
  },
  {
   "cell_type": "code",
   "execution_count": 153,
   "metadata": {},
   "outputs": [
    {
     "name": "stdout",
     "output_type": "stream",
     "text": [
      "10.0\n"
     ]
    }
   ],
   "source": [
    "# initialize a variable with an int value\n",
    "# convert the variable to float (typecasting)\n",
    "\n",
    "a=10\n",
    "b=float(a)\n",
    "print(b)"
   ]
  },
  {
   "cell_type": "markdown",
   "metadata": {},
   "source": [
    "Conversion to and from string must contain compatible values."
   ]
  },
  {
   "cell_type": "code",
   "execution_count": 154,
   "metadata": {},
   "outputs": [
    {
     "name": "stdout",
     "output_type": "stream",
     "text": [
      "10\n"
     ]
    }
   ],
   "source": [
    "# initialize a variable with an int value\n",
    "# convert the variable to string (typecasting)\n",
    "\n",
    "a=10\n",
    "b=str(a)\n",
    "print(b)\n"
   ]
  },
  {
   "cell_type": "code",
   "execution_count": 158,
   "metadata": {},
   "outputs": [
    {
     "name": "stdout",
     "output_type": "stream",
     "text": [
      "10.3\n"
     ]
    }
   ],
   "source": [
    "# initialize a variable with a decimal value\n",
    "# convert the variable to string (typecasting)\n",
    "a=10.3\n",
    "b=str(a)\n",
    "print(b)"
   ]
  },
  {
   "cell_type": "code",
   "execution_count": 159,
   "metadata": {},
   "outputs": [
    {
     "name": "stdout",
     "output_type": "stream",
     "text": [
      "5\n"
     ]
    }
   ],
   "source": [
    "# initialize a variable with a value \"5\" (as string)\n",
    "# convert the variable to int (typecasting)\n",
    "\n",
    "a=\"5\"\n",
    "b=int(a)\n",
    "print(b)"
   ]
  },
  {
   "cell_type": "code",
   "execution_count": 164,
   "metadata": {},
   "outputs": [
    {
     "name": "stdout",
     "output_type": "stream",
     "text": [
      "5\n"
     ]
    }
   ],
   "source": [
    "# initialize a variable with a value \"5.5\" (as string)\n",
    "# convert the variable to int (typecasting)\n",
    "\n",
    "a=\"5.5\"\n",
    "b=float(a)\n",
    "c=int(b)\n",
    "print(c)"
   ]
  },
  {
   "cell_type": "code",
   "execution_count": 161,
   "metadata": {},
   "outputs": [
    {
     "name": "stdout",
     "output_type": "stream",
     "text": [
      "5.0\n"
     ]
    }
   ],
   "source": [
    "# initialize a variable with a value \"5.5\" (as string)\n",
    "# convert the variable to float (typecasting)\n",
    "\n",
    "a=\"5\"\n",
    "b=float(a)\n",
    "print(b)"
   ]
  },
  {
   "cell_type": "code",
   "execution_count": 166,
   "metadata": {},
   "outputs": [
    {
     "ename": "ValueError",
     "evalue": "invalid literal for int() with base 10: 'CharIn10'",
     "output_type": "error",
     "traceback": [
      "\u001b[1;31m---------------------------------------------------------------------------\u001b[0m",
      "\u001b[1;31mValueError\u001b[0m                                Traceback (most recent call last)",
      "Cell \u001b[1;32mIn[166], line 5\u001b[0m\n\u001b[0;32m      1\u001b[0m \u001b[38;5;66;03m# initialize a variable with a value \"CharIn10\" (as string)\u001b[39;00m\n\u001b[0;32m      2\u001b[0m \u001b[38;5;66;03m# convert the variable to int (typecasting)\u001b[39;00m\n\u001b[0;32m      4\u001b[0m a\u001b[38;5;241m=\u001b[39m\u001b[38;5;124m\"\u001b[39m\u001b[38;5;124mCharIn10\u001b[39m\u001b[38;5;124m\"\u001b[39m\n\u001b[1;32m----> 5\u001b[0m b\u001b[38;5;241m=\u001b[39m\u001b[38;5;28;43mint\u001b[39;49m\u001b[43m(\u001b[49m\u001b[43ma\u001b[49m\u001b[43m)\u001b[49m\n\u001b[0;32m      6\u001b[0m \u001b[38;5;28mprint\u001b[39m(b)\n",
      "\u001b[1;31mValueError\u001b[0m: invalid literal for int() with base 10: 'CharIn10'"
     ]
    }
   ],
   "source": [
    "# initialize a variable with a value \"CharIn10\" (as string)\n",
    "# convert the variable to int (typecasting)\n",
    "\n",
    "a=\"CharIn10\"\n",
    "b=int(a)\n",
    "print(b)\n",
    "\n",
    "#'it will raise error\n",
    "#ValueError: invalid literal for int() with base 10: 'CharIn10''\n"
   ]
  },
  {
   "cell_type": "code",
   "execution_count": 170,
   "metadata": {},
   "outputs": [
    {
     "ename": "TypeError",
     "evalue": "can only concatenate str (not \"int\") to str",
     "output_type": "error",
     "traceback": [
      "\u001b[1;31m---------------------------------------------------------------------------\u001b[0m",
      "\u001b[1;31mTypeError\u001b[0m                                 Traceback (most recent call last)",
      "Cell \u001b[1;32mIn[170], line 5\u001b[0m\n\u001b[0;32m      3\u001b[0m a\u001b[38;5;241m=\u001b[39m\u001b[38;5;124m\"\u001b[39m\u001b[38;5;124mdastan\u001b[39m\u001b[38;5;124m\"\u001b[39m\n\u001b[0;32m      4\u001b[0m b\u001b[38;5;241m=\u001b[39m\u001b[38;5;241m10\u001b[39m\n\u001b[1;32m----> 5\u001b[0m \u001b[38;5;28mprint\u001b[39m(\u001b[43ma\u001b[49m\u001b[38;5;241;43m+\u001b[39;49m\u001b[43mb\u001b[49m)\n",
      "\u001b[1;31mTypeError\u001b[0m: can only concatenate str (not \"int\") to str"
     ]
    }
   ],
   "source": [
    "#  concat string with int\n",
    "# variable = string_v1 + int_v2\n",
    "a=\"dastan\"\n",
    "b=10\n",
    "print(a+b)\n",
    "\n",
    "\n",
    "#'it will raise error\n",
    "#TypeError: can only concatenate str (not \"int\") to str\n"
   ]
  },
  {
   "cell_type": "code",
   "execution_count": 169,
   "metadata": {},
   "outputs": [
    {
     "name": "stdout",
     "output_type": "stream",
     "text": [
      "dastan10\n"
     ]
    }
   ],
   "source": [
    "# concat string with typecasted string to int\n",
    "# variable = string_v1 + str(int_v2)\n",
    "# print the value of variable\n",
    "\n",
    "a=\"dastan\"\n",
    "b=10\n",
    "print(a+str(b))\n"
   ]
  },
  {
   "cell_type": "markdown",
   "metadata": {},
   "source": [
    "Convert,<br/>\n",
    "1> list to set<br/>\n",
    "2> String to list"
   ]
  },
  {
   "cell_type": "code",
   "execution_count": 172,
   "metadata": {},
   "outputs": [
    {
     "name": "stdout",
     "output_type": "stream",
     "text": [
      "[1, 2, 3, 4, 5, 6]\n",
      "<class 'list'>\n",
      "<class 'set'>\n",
      "{1, 2, 3, 4, 5, 6}\n"
     ]
    }
   ],
   "source": [
    "# 1> list to set\n",
    "# initialize a variable with a list of characters\n",
    "# print the list\n",
    "# print the type of variable\n",
    "# convert list to set and assign it to an other variable \n",
    "# print the type of set variable\n",
    "# print set variable\n",
    "\n",
    "a=[1,2,3,4,5,6]\n",
    "print(a)\n",
    "print(type(a))\n",
    "b=set(a)\n",
    "print(type(b))\n",
    "print(b)\n"
   ]
  },
  {
   "cell_type": "code",
   "execution_count": 175,
   "metadata": {},
   "outputs": [
    {
     "name": "stdout",
     "output_type": "stream",
     "text": [
      "<class 'str'>\n",
      "<class 'list'>\n",
      "['d', 'a', 's', 't', 'a', 'n']\n"
     ]
    }
   ],
   "source": [
    "# 2> String to list\n",
    "# assign a string to a variable myString1\n",
    "# print type of myString variable\n",
    "# convert myString to list and assign it to strToList\n",
    "# print type of strToList\n",
    "# print variable strToList\n",
    "\n",
    "myString1=\"dastan\"\n",
    "print(type(myString1))\n",
    "strToList=list(myString1)\n",
    "print(type(strToList))\n",
    "print(strToList)\n",
    "\n",
    "\n"
   ]
  }
 ],
 "metadata": {
  "kernelspec": {
   "display_name": "Python 3 (ipykernel)",
   "language": "python",
   "name": "python3"
  },
  "language_info": {
   "codemirror_mode": {
    "name": "ipython",
    "version": 3
   },
   "file_extension": ".py",
   "mimetype": "text/x-python",
   "name": "python",
   "nbconvert_exporter": "python",
   "pygments_lexer": "ipython3",
   "version": "3.10.9"
  }
 },
 "nbformat": 4,
 "nbformat_minor": 2
}
