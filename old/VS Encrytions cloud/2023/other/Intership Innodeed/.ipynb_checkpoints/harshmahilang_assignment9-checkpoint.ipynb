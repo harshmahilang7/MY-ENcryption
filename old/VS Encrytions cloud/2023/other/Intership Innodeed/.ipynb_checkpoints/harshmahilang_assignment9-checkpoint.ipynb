{
 "cells": [
  {
   "cell_type": "code",
   "execution_count": 2,
   "metadata": {
    "id": "yrjn1l6BSdZ9"
   },
   "outputs": [],
   "source": [
    "#FLASK ASSIGNMENT 1"
   ]
  },
  {
   "cell_type": "code",
   "execution_count": 1,
   "metadata": {
    "colab": {
     "base_uri": "https://localhost:8080/",
     "height": 35
    },
    "id": "FHXkROM7SuCa",
    "outputId": "6889af58-cce2-4b75-aedb-c616fd01ca5b",
    "scrolled": false
   },
   "outputs": [
    {
     "name": "stdout",
     "output_type": "stream",
     "text": [
      " * Serving Flask app '__main__'\n",
      " * Debug mode: on\n"
     ]
    },
    {
     "name": "stderr",
     "output_type": "stream",
     "text": [
      "WARNING: This is a development server. Do not use it in a production deployment. Use a production WSGI server instead.\n",
      " * Running on http://127.0.0.1:5000\n",
      "Press CTRL+C to quit\n",
      " * Restarting with watchdog (windowsapi)\n"
     ]
    },
    {
     "ename": "SystemExit",
     "evalue": "1",
     "output_type": "error",
     "traceback": [
      "An exception has occurred, use %tb to see the full traceback.\n",
      "\u001b[1;31mSystemExit\u001b[0m\u001b[1;31m:\u001b[0m 1\n"
     ]
    },
    {
     "name": "stderr",
     "output_type": "stream",
     "text": [
      "C:\\Users\\harsh\\AppData\\Local\\Programs\\Python\\Python311\\Lib\\site-packages\\IPython\\core\\interactiveshell.py:3516: UserWarning: To exit: use 'exit', 'quit', or Ctrl-D.\n",
      "  warn(\"To exit: use 'exit', 'quit', or Ctrl-D.\", stacklevel=1)\n"
     ]
    }
   ],
   "source": [
    "\"\"\"\n",
    "  Create a flask app to upload a file to server from browser\n",
    "\"\"\"\n",
    "\n",
    "\"\"\"\n",
    "index.html\n",
    "\n",
    "<!DOCTYPE html>\n",
    "<html>\n",
    "<head>\n",
    "    <title>File Upload</title>\n",
    "</head>\n",
    "<body>\n",
    "    <h1>Upload a File</h1>\n",
    "    <form action=\"/upload\" method=\"POST\" enctype=\"multipart/form-data\">\n",
    "        <input type=\"file\" name=\"file\" accept=\".txt, .pdf, .doc, .docx\">\n",
    "        <input type=\"submit\" value=\"Upload\">\n",
    "    </form>\n",
    "</body>\n",
    "</html>\n",
    "\n",
    "\n",
    "\"\"\"\n",
    "from flask import Flask, render_template, request\n",
    "import os\n",
    "\n",
    "app = Flask(__name__, template_folder=\"temp\")\n",
    "app.config['UPLOAD_FOLDER'] = '2023/PY_Flask/upload'\n",
    "\n",
    "@app.route('/')\n",
    "def index():\n",
    "    return render_template('index.html')\n",
    "\n",
    "@app.route('/upload', methods=['POST'])\n",
    "def upload():\n",
    "    file = request.files['file']\n",
    "    if file:\n",
    "        filename = file.filename\n",
    "        file.save(os.path.join(app.config['UPLOAD_FOLDER'], filename))\n",
    "        return 'File uploaded successfully!'\n",
    "    else:\n",
    "        return 'No file selected!'\n",
    "\n",
    "if __name__ == '__main__':\n",
    "    app.run(debug=True)\n"
   ]
  },
  {
   "cell_type": "code",
   "execution_count": 23,
   "metadata": {
    "colab": {
     "base_uri": "https://localhost:8080/",
     "height": 35
    },
    "id": "IWDlKoXATGBB",
    "outputId": "d56edac3-b04f-4674-a2e4-0873816e65df"
   },
   "outputs": [
    {
     "name": "stdout",
     "output_type": "stream",
     "text": [
      " * Serving Flask app '__main__'\n",
      " * Debug mode: on\n"
     ]
    },
    {
     "name": "stderr",
     "output_type": "stream",
     "text": [
      "WARNING: This is a development server. Do not use it in a production deployment. Use a production WSGI server instead.\n",
      " * Running on http://127.0.0.1:8000\n",
      "Press CTRL+C to quit\n",
      " * Restarting with watchdog (windowsapi)\n"
     ]
    },
    {
     "ename": "SystemExit",
     "evalue": "1",
     "output_type": "error",
     "traceback": [
      "An exception has occurred, use %tb to see the full traceback.\n",
      "\u001b[1;31mSystemExit\u001b[0m\u001b[1;31m:\u001b[0m 1\n"
     ]
    }
   ],
   "source": [
    "\"\"\"\n",
    "  Create a flask app to wherein user can download a document by clicking a button in browser\n",
    "\"\"\"\n",
    "\"\"\"\n",
    "down.html\n",
    "\n",
    "<!-- \n",
    "  @Author: Dastan_Alam\n",
    "  @Date:   29-06-2023 01:29:22 PM       13:29:22\n",
    "  @Last Modified by:   Dastan_Alam\n",
    "  @Last Modified time: 29-06-2023 02:38:50 PM       14:38:50\n",
    "-->\n",
    "\n",
    "<!DOCTYPE html>\n",
    "<html>\n",
    "<head>\n",
    "    <title>Document Download</title>\n",
    "    <link rel=\"stylesheet\" href=\"https://stackpath.bootstrapcdn.com/bootstrap/4.3.1/css/bootstrap.min.css\" integrity=\"sha384-ggOyR0iXCbMQv3Xipma34MD+dH/1fQ784/j6cY/iJTQUOhcWr7x9JvoRxT2MZw1T\" crossorigin=\"anonymous\">\n",
    "</head>\n",
    "<body>\n",
    "    <h1>Document Download</h1>\n",
    "    <a href=\"{{ url_for('download') }}\" class=\"btn btn-primary\">Download Document</a>\n",
    "</body>\n",
    "</html>\n",
    "\n",
    "\n",
    "\n",
    "\"\"\"\n",
    "from flask import Flask, render_template, send_file\n",
    "import os\n",
    "app = Flask(__name__,template_folder=\"temp\")\n",
    "\n",
    "@app.route('/')\n",
    "def index():\n",
    "    return render_template('dowm.html')\n",
    "\n",
    "@app.route('/download', methods=['GET'])\n",
    "def download():\n",
    "    document_path = 'C:\\\\Users\\\\harsh\\\\OneDrive\\\\MY ENcryption\\\\VS Encrytions cloud\\\\2023\\\\PY_Flask\\\\upload\\\\Doc1.docx'\n",
    "    return send_file(document_path, as_attachment=True)\n",
    "\n",
    "if __name__ == '__main__':\n",
    "    app.run(debug=True)\n"
   ]
  },
  {
   "cell_type": "code",
   "execution_count": 7,
   "metadata": {
    "colab": {
     "base_uri": "https://localhost:8080/",
     "height": 35
    },
    "id": "TCZgzaMMXFKv",
    "outputId": "c75e1796-3040-489a-bbd7-5176ef3a08fa"
   },
   "outputs": [
    {
     "name": "stdout",
     "output_type": "stream",
     "text": [
      " * Serving Flask app '__main__'\n",
      " * Debug mode: on\n"
     ]
    },
    {
     "name": "stderr",
     "output_type": "stream",
     "text": [
      "WARNING: This is a development server. Do not use it in a production deployment. Use a production WSGI server instead.\n",
      " * Running on http://127.0.0.1:5000\n",
      "Press CTRL+C to quit\n",
      " * Restarting with watchdog (windowsapi)\n"
     ]
    },
    {
     "ename": "SystemExit",
     "evalue": "1",
     "output_type": "error",
     "traceback": [
      "An exception has occurred, use %tb to see the full traceback.\n",
      "\u001b[1;31mSystemExit\u001b[0m\u001b[1;31m:\u001b[0m 1\n"
     ]
    }
   ],
   "source": [
    "\"\"\"\n",
    "  Create a flask app which accepts a csv file from user via browser and returns the number of rows consists in csv\n",
    "\"\"\"\n",
    "\"\"\"\n",
    "index.html\n",
    "\n",
    "<!DOCTYPE html>\n",
    "<html>\n",
    "<head>\n",
    "    <title>File Upload</title>\n",
    "</head>\n",
    "<body>\n",
    "    <h1>Upload a File</h1>\n",
    "    <form action=\"/upload\" method=\"POST\" enctype=\"multipart/form-data\">\n",
    "        <input type=\"file\" name=\"file\" accept=\".txt, .pdf, .doc, .docx\">\n",
    "        <input type=\"submit\" value=\"Upload\">\n",
    "    </form>\n",
    "</body>\n",
    "</html>\n",
    "\n",
    "\n",
    "\"\"\"\n",
    "\n",
    "from flask import Flask, render_template, request\n",
    "import csv\n",
    "\n",
    "import os\n",
    "\n",
    "app = Flask(__name__, template_folder=\"temp\")\n",
    "app.config['UPLOAD_FOLDER'] = '2023/PY_Flask/upload'\n",
    "\n",
    "@app.route('/')\n",
    "def index():\n",
    "    return render_template('index.html')\n",
    "\n",
    "@app.route('/upload', methods=['POST'])\n",
    "def upload():\n",
    "    file = request.files['file']\n",
    "    if file:\n",
    "        csv_data = file.read().decode('utf-8')\n",
    "        csv_rows = csv_data.split('\\n')  \n",
    "        num_rows = len(csv_rows) - 1 \n",
    "        return f'The number of rows in the CSV file is: {num_rows}'\n",
    "    else:\n",
    "        return 'No file selected!'\n",
    "\n",
    "if __name__ == '__main__':\n",
    "    app.run(debug=True)\n"
   ]
  },
  {
   "cell_type": "code",
   "execution_count": 1,
   "metadata": {
    "id": "T812uHgXXqXU"
   },
   "outputs": [
    {
     "name": "stdout",
     "output_type": "stream",
     "text": [
      " * Serving Flask app '__main__'\n",
      " * Debug mode: on\n"
     ]
    },
    {
     "name": "stderr",
     "output_type": "stream",
     "text": [
      "WARNING: This is a development server. Do not use it in a production deployment. Use a production WSGI server instead.\n",
      " * Running on http://127.0.0.1:5000\n",
      "Press CTRL+C to quit\n",
      " * Restarting with watchdog (windowsapi)\n"
     ]
    },
    {
     "ename": "SystemExit",
     "evalue": "1",
     "output_type": "error",
     "traceback": [
      "An exception has occurred, use %tb to see the full traceback.\n",
      "\u001b[1;31mSystemExit\u001b[0m\u001b[1;31m:\u001b[0m 1\n"
     ]
    },
    {
     "name": "stderr",
     "output_type": "stream",
     "text": [
      "C:\\Users\\harsh\\AppData\\Local\\Programs\\Python\\Python311\\Lib\\site-packages\\IPython\\core\\interactiveshell.py:3516: UserWarning: To exit: use 'exit', 'quit', or Ctrl-D.\n",
      "  warn(\"To exit: use 'exit', 'quit', or Ctrl-D.\", stacklevel=1)\n"
     ]
    }
   ],
   "source": [
    "\"\"\"\n",
    "  Create a flask app which takes an image as an input from browser and returns the resolution of the input image ans show it in browser\n",
    "\"\"\"\n",
    "\"\"\"\n",
    "index.html\n",
    "\n",
    "<!DOCTYPE html>\n",
    "<html>\n",
    "<head>\n",
    "    <title>File Upload</title>\n",
    "</head>\n",
    "<body>\n",
    "    <h1>Upload a File</h1>\n",
    "    <form action=\"/upload\" method=\"POST\" enctype=\"multipart/form-data\">\n",
    "        <input type=\"file\" name=\"file\" accept=\".txt, .pdf, .doc, .docx\">\n",
    "        <input type=\"submit\" value=\"Upload\">\n",
    "    </form>\n",
    "</body>\n",
    "</html>\n",
    "\"\"\"\n",
    "\n",
    "\"\"\"\n",
    "result.html\n",
    "\n",
    "<!DOCTYPE html>\n",
    "<html>\n",
    "<head>\n",
    "    <title>Image Resolution Result</title>\n",
    "</head>\n",
    "<body>\n",
    "    <h1>Image Resolution Result</h1>\n",
    "    <p>Image resolution: {{ width }} x {{ height }}</p>\n",
    "</body>\n",
    "</html>\n",
    "\n",
    "\n",
    "\n",
    "\"\"\"\n",
    "from flask import Flask, render_template, request\n",
    "from PIL import Image\n",
    "import os\n",
    "\n",
    "app = Flask(__name__, template_folder=\"temp\")\n",
    "app.config['UPLOAD_FOLDER'] = '2023/PY_Flask/upload'\n",
    "\n",
    "@app.route('/')\n",
    "def index():\n",
    "    return render_template('index.html')\n",
    "\n",
    "@app.route('/upload', methods=['POST'])\n",
    "def upload():\n",
    "    file = request.files['file']\n",
    "    if file:\n",
    "        image = Image.open(file)\n",
    "        width, height = image.size  \n",
    "        return render_template('result.html', width=width, height=height)\n",
    "    else:\n",
    "        return 'No file selected!'\n",
    "\n",
    "if __name__ == '__main__':\n",
    "    app.run(debug=True)"
   ]
  }
 ],
 "metadata": {
  "colab": {
   "provenance": []
  },
  "kernelspec": {
   "display_name": "Python 3 (ipykernel)",
   "language": "python",
   "name": "python3"
  },
  "language_info": {
   "codemirror_mode": {
    "name": "ipython",
    "version": 3
   },
   "file_extension": ".py",
   "mimetype": "text/x-python",
   "name": "python",
   "nbconvert_exporter": "python",
   "pygments_lexer": "ipython3",
   "version": "3.11.4"
  }
 },
 "nbformat": 4,
 "nbformat_minor": 1
}
